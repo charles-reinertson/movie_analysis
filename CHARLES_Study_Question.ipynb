{
 "cells": [
  {
   "cell_type": "code",
   "execution_count": 1,
   "id": "784109ec",
   "metadata": {},
   "outputs": [
    {
     "name": "stderr",
     "output_type": "stream",
     "text": [
      "[nltk_data] Downloading package wordnet to\n",
      "[nltk_data]     /Users/charlesreinertson/nltk_data...\n",
      "[nltk_data]   Package wordnet is already up-to-date!\n",
      "[nltk_data] Downloading package omw-1.4 to\n",
      "[nltk_data]     /Users/charlesreinertson/nltk_data...\n",
      "[nltk_data]   Package omw-1.4 is already up-to-date!\n"
     ]
    }
   ],
   "source": [
    "import numpy as np\n",
    "import pandas as pd\n",
    "import json \n",
    "import seaborn as sns\n",
    "import string\n",
    "import nltk\n",
    "nltk.download('wordnet')\n",
    "nltk.download('omw-1.4')\n",
    "from matplotlib import pyplot as plt\n",
    "from matplotlib.pyplot import figure\n",
    "from nltk.corpus import stopwords\n",
    "from nltk.stem import WordNetLemmatizer\n",
    "from nltk import pos_tag, word_tokenize\n",
    "from sklearn.feature_extraction.text import CountVectorizer\n",
    "from sklearn.feature_extraction.text import TfidfTransformer\n",
    "from pingouin import multivariate_normality\n",
    "pd.set_option('display.max_columns', None)"
   ]
  },
  {
   "cell_type": "markdown",
   "id": "183a8ea3",
   "metadata": {},
   "source": [
    "# Read in data"
   ]
  },
  {
   "cell_type": "code",
   "execution_count": 2,
   "id": "290d6691",
   "metadata": {},
   "outputs": [
    {
     "data": {
      "text/html": [
       "<div>\n",
       "<style scoped>\n",
       "    .dataframe tbody tr th:only-of-type {\n",
       "        vertical-align: middle;\n",
       "    }\n",
       "\n",
       "    .dataframe tbody tr th {\n",
       "        vertical-align: top;\n",
       "    }\n",
       "\n",
       "    .dataframe thead th {\n",
       "        text-align: right;\n",
       "    }\n",
       "</style>\n",
       "<table border=\"1\" class=\"dataframe\">\n",
       "  <thead>\n",
       "    <tr style=\"text-align: right;\">\n",
       "      <th></th>\n",
       "      <th>title</th>\n",
       "      <th>cast</th>\n",
       "      <th>crew</th>\n",
       "      <th>budget</th>\n",
       "      <th>genres</th>\n",
       "      <th>id</th>\n",
       "      <th>keywords</th>\n",
       "      <th>original_language</th>\n",
       "      <th>original_title</th>\n",
       "      <th>overview</th>\n",
       "      <th>popularity</th>\n",
       "      <th>production_companies</th>\n",
       "      <th>production_countries</th>\n",
       "      <th>release_date</th>\n",
       "      <th>revenue</th>\n",
       "      <th>runtime</th>\n",
       "      <th>spoken_languages</th>\n",
       "      <th>status</th>\n",
       "      <th>tagline</th>\n",
       "      <th>vote_average</th>\n",
       "      <th>vote_count</th>\n",
       "    </tr>\n",
       "  </thead>\n",
       "  <tbody>\n",
       "    <tr>\n",
       "      <th>0</th>\n",
       "      <td>Avatar</td>\n",
       "      <td>[{\"cast_id\": 242, \"character\": \"Jake Sully\", \"...</td>\n",
       "      <td>[{\"credit_id\": \"52fe48009251416c750aca23\", \"de...</td>\n",
       "      <td>237000000</td>\n",
       "      <td>[{\"id\": 28, \"name\": \"Action\"}, {\"id\": 12, \"nam...</td>\n",
       "      <td>19995</td>\n",
       "      <td>[{\"id\": 1463, \"name\": \"culture clash\"}, {\"id\":...</td>\n",
       "      <td>en</td>\n",
       "      <td>Avatar</td>\n",
       "      <td>In the 22nd century, a paraplegic Marine is di...</td>\n",
       "      <td>150.437577</td>\n",
       "      <td>[{\"name\": \"Ingenious Film Partners\", \"id\": 289...</td>\n",
       "      <td>[{\"iso_3166_1\": \"US\", \"name\": \"United States o...</td>\n",
       "      <td>2009-12-10</td>\n",
       "      <td>2787965087</td>\n",
       "      <td>162.0</td>\n",
       "      <td>[{\"iso_639_1\": \"en\", \"name\": \"English\"}, {\"iso...</td>\n",
       "      <td>Released</td>\n",
       "      <td>Enter the World of Pandora.</td>\n",
       "      <td>7.2</td>\n",
       "      <td>11800</td>\n",
       "    </tr>\n",
       "    <tr>\n",
       "      <th>1</th>\n",
       "      <td>Pirates of the Caribbean: At World's End</td>\n",
       "      <td>[{\"cast_id\": 4, \"character\": \"Captain Jack Spa...</td>\n",
       "      <td>[{\"credit_id\": \"52fe4232c3a36847f800b579\", \"de...</td>\n",
       "      <td>300000000</td>\n",
       "      <td>[{\"id\": 12, \"name\": \"Adventure\"}, {\"id\": 14, \"...</td>\n",
       "      <td>285</td>\n",
       "      <td>[{\"id\": 270, \"name\": \"ocean\"}, {\"id\": 726, \"na...</td>\n",
       "      <td>en</td>\n",
       "      <td>Pirates of the Caribbean: At World's End</td>\n",
       "      <td>Captain Barbossa, long believed to be dead, ha...</td>\n",
       "      <td>139.082615</td>\n",
       "      <td>[{\"name\": \"Walt Disney Pictures\", \"id\": 2}, {\"...</td>\n",
       "      <td>[{\"iso_3166_1\": \"US\", \"name\": \"United States o...</td>\n",
       "      <td>2007-05-19</td>\n",
       "      <td>961000000</td>\n",
       "      <td>169.0</td>\n",
       "      <td>[{\"iso_639_1\": \"en\", \"name\": \"English\"}]</td>\n",
       "      <td>Released</td>\n",
       "      <td>At the end of the world, the adventure begins.</td>\n",
       "      <td>6.9</td>\n",
       "      <td>4500</td>\n",
       "    </tr>\n",
       "    <tr>\n",
       "      <th>2</th>\n",
       "      <td>Spectre</td>\n",
       "      <td>[{\"cast_id\": 1, \"character\": \"James Bond\", \"cr...</td>\n",
       "      <td>[{\"credit_id\": \"54805967c3a36829b5002c41\", \"de...</td>\n",
       "      <td>245000000</td>\n",
       "      <td>[{\"id\": 28, \"name\": \"Action\"}, {\"id\": 12, \"nam...</td>\n",
       "      <td>206647</td>\n",
       "      <td>[{\"id\": 470, \"name\": \"spy\"}, {\"id\": 818, \"name...</td>\n",
       "      <td>en</td>\n",
       "      <td>Spectre</td>\n",
       "      <td>A cryptic message from Bond’s past sends him o...</td>\n",
       "      <td>107.376788</td>\n",
       "      <td>[{\"name\": \"Columbia Pictures\", \"id\": 5}, {\"nam...</td>\n",
       "      <td>[{\"iso_3166_1\": \"GB\", \"name\": \"United Kingdom\"...</td>\n",
       "      <td>2015-10-26</td>\n",
       "      <td>880674609</td>\n",
       "      <td>148.0</td>\n",
       "      <td>[{\"iso_639_1\": \"fr\", \"name\": \"Fran\\u00e7ais\"},...</td>\n",
       "      <td>Released</td>\n",
       "      <td>A Plan No One Escapes</td>\n",
       "      <td>6.3</td>\n",
       "      <td>4466</td>\n",
       "    </tr>\n",
       "    <tr>\n",
       "      <th>3</th>\n",
       "      <td>The Dark Knight Rises</td>\n",
       "      <td>[{\"cast_id\": 2, \"character\": \"Bruce Wayne / Ba...</td>\n",
       "      <td>[{\"credit_id\": \"52fe4781c3a36847f81398c3\", \"de...</td>\n",
       "      <td>250000000</td>\n",
       "      <td>[{\"id\": 28, \"name\": \"Action\"}, {\"id\": 80, \"nam...</td>\n",
       "      <td>49026</td>\n",
       "      <td>[{\"id\": 849, \"name\": \"dc comics\"}, {\"id\": 853,...</td>\n",
       "      <td>en</td>\n",
       "      <td>The Dark Knight Rises</td>\n",
       "      <td>Following the death of District Attorney Harve...</td>\n",
       "      <td>112.312950</td>\n",
       "      <td>[{\"name\": \"Legendary Pictures\", \"id\": 923}, {\"...</td>\n",
       "      <td>[{\"iso_3166_1\": \"US\", \"name\": \"United States o...</td>\n",
       "      <td>2012-07-16</td>\n",
       "      <td>1084939099</td>\n",
       "      <td>165.0</td>\n",
       "      <td>[{\"iso_639_1\": \"en\", \"name\": \"English\"}]</td>\n",
       "      <td>Released</td>\n",
       "      <td>The Legend Ends</td>\n",
       "      <td>7.6</td>\n",
       "      <td>9106</td>\n",
       "    </tr>\n",
       "    <tr>\n",
       "      <th>4</th>\n",
       "      <td>John Carter</td>\n",
       "      <td>[{\"cast_id\": 5, \"character\": \"John Carter\", \"c...</td>\n",
       "      <td>[{\"credit_id\": \"52fe479ac3a36847f813eaa3\", \"de...</td>\n",
       "      <td>260000000</td>\n",
       "      <td>[{\"id\": 28, \"name\": \"Action\"}, {\"id\": 12, \"nam...</td>\n",
       "      <td>49529</td>\n",
       "      <td>[{\"id\": 818, \"name\": \"based on novel\"}, {\"id\":...</td>\n",
       "      <td>en</td>\n",
       "      <td>John Carter</td>\n",
       "      <td>John Carter is a war-weary, former military ca...</td>\n",
       "      <td>43.926995</td>\n",
       "      <td>[{\"name\": \"Walt Disney Pictures\", \"id\": 2}]</td>\n",
       "      <td>[{\"iso_3166_1\": \"US\", \"name\": \"United States o...</td>\n",
       "      <td>2012-03-07</td>\n",
       "      <td>284139100</td>\n",
       "      <td>132.0</td>\n",
       "      <td>[{\"iso_639_1\": \"en\", \"name\": \"English\"}]</td>\n",
       "      <td>Released</td>\n",
       "      <td>Lost in our world, found in another.</td>\n",
       "      <td>6.1</td>\n",
       "      <td>2124</td>\n",
       "    </tr>\n",
       "  </tbody>\n",
       "</table>\n",
       "</div>"
      ],
      "text/plain": [
       "                                      title  \\\n",
       "0                                    Avatar   \n",
       "1  Pirates of the Caribbean: At World's End   \n",
       "2                                   Spectre   \n",
       "3                     The Dark Knight Rises   \n",
       "4                               John Carter   \n",
       "\n",
       "                                                cast  \\\n",
       "0  [{\"cast_id\": 242, \"character\": \"Jake Sully\", \"...   \n",
       "1  [{\"cast_id\": 4, \"character\": \"Captain Jack Spa...   \n",
       "2  [{\"cast_id\": 1, \"character\": \"James Bond\", \"cr...   \n",
       "3  [{\"cast_id\": 2, \"character\": \"Bruce Wayne / Ba...   \n",
       "4  [{\"cast_id\": 5, \"character\": \"John Carter\", \"c...   \n",
       "\n",
       "                                                crew     budget  \\\n",
       "0  [{\"credit_id\": \"52fe48009251416c750aca23\", \"de...  237000000   \n",
       "1  [{\"credit_id\": \"52fe4232c3a36847f800b579\", \"de...  300000000   \n",
       "2  [{\"credit_id\": \"54805967c3a36829b5002c41\", \"de...  245000000   \n",
       "3  [{\"credit_id\": \"52fe4781c3a36847f81398c3\", \"de...  250000000   \n",
       "4  [{\"credit_id\": \"52fe479ac3a36847f813eaa3\", \"de...  260000000   \n",
       "\n",
       "                                              genres      id  \\\n",
       "0  [{\"id\": 28, \"name\": \"Action\"}, {\"id\": 12, \"nam...   19995   \n",
       "1  [{\"id\": 12, \"name\": \"Adventure\"}, {\"id\": 14, \"...     285   \n",
       "2  [{\"id\": 28, \"name\": \"Action\"}, {\"id\": 12, \"nam...  206647   \n",
       "3  [{\"id\": 28, \"name\": \"Action\"}, {\"id\": 80, \"nam...   49026   \n",
       "4  [{\"id\": 28, \"name\": \"Action\"}, {\"id\": 12, \"nam...   49529   \n",
       "\n",
       "                                            keywords original_language  \\\n",
       "0  [{\"id\": 1463, \"name\": \"culture clash\"}, {\"id\":...                en   \n",
       "1  [{\"id\": 270, \"name\": \"ocean\"}, {\"id\": 726, \"na...                en   \n",
       "2  [{\"id\": 470, \"name\": \"spy\"}, {\"id\": 818, \"name...                en   \n",
       "3  [{\"id\": 849, \"name\": \"dc comics\"}, {\"id\": 853,...                en   \n",
       "4  [{\"id\": 818, \"name\": \"based on novel\"}, {\"id\":...                en   \n",
       "\n",
       "                             original_title  \\\n",
       "0                                    Avatar   \n",
       "1  Pirates of the Caribbean: At World's End   \n",
       "2                                   Spectre   \n",
       "3                     The Dark Knight Rises   \n",
       "4                               John Carter   \n",
       "\n",
       "                                            overview  popularity  \\\n",
       "0  In the 22nd century, a paraplegic Marine is di...  150.437577   \n",
       "1  Captain Barbossa, long believed to be dead, ha...  139.082615   \n",
       "2  A cryptic message from Bond’s past sends him o...  107.376788   \n",
       "3  Following the death of District Attorney Harve...  112.312950   \n",
       "4  John Carter is a war-weary, former military ca...   43.926995   \n",
       "\n",
       "                                production_companies  \\\n",
       "0  [{\"name\": \"Ingenious Film Partners\", \"id\": 289...   \n",
       "1  [{\"name\": \"Walt Disney Pictures\", \"id\": 2}, {\"...   \n",
       "2  [{\"name\": \"Columbia Pictures\", \"id\": 5}, {\"nam...   \n",
       "3  [{\"name\": \"Legendary Pictures\", \"id\": 923}, {\"...   \n",
       "4        [{\"name\": \"Walt Disney Pictures\", \"id\": 2}]   \n",
       "\n",
       "                                production_countries release_date     revenue  \\\n",
       "0  [{\"iso_3166_1\": \"US\", \"name\": \"United States o...   2009-12-10  2787965087   \n",
       "1  [{\"iso_3166_1\": \"US\", \"name\": \"United States o...   2007-05-19   961000000   \n",
       "2  [{\"iso_3166_1\": \"GB\", \"name\": \"United Kingdom\"...   2015-10-26   880674609   \n",
       "3  [{\"iso_3166_1\": \"US\", \"name\": \"United States o...   2012-07-16  1084939099   \n",
       "4  [{\"iso_3166_1\": \"US\", \"name\": \"United States o...   2012-03-07   284139100   \n",
       "\n",
       "   runtime                                   spoken_languages    status  \\\n",
       "0    162.0  [{\"iso_639_1\": \"en\", \"name\": \"English\"}, {\"iso...  Released   \n",
       "1    169.0           [{\"iso_639_1\": \"en\", \"name\": \"English\"}]  Released   \n",
       "2    148.0  [{\"iso_639_1\": \"fr\", \"name\": \"Fran\\u00e7ais\"},...  Released   \n",
       "3    165.0           [{\"iso_639_1\": \"en\", \"name\": \"English\"}]  Released   \n",
       "4    132.0           [{\"iso_639_1\": \"en\", \"name\": \"English\"}]  Released   \n",
       "\n",
       "                                          tagline  vote_average  vote_count  \n",
       "0                     Enter the World of Pandora.           7.2       11800  \n",
       "1  At the end of the world, the adventure begins.           6.9        4500  \n",
       "2                           A Plan No One Escapes           6.3        4466  \n",
       "3                                 The Legend Ends           7.6        9106  \n",
       "4            Lost in our world, found in another.           6.1        2124  "
      ]
     },
     "execution_count": 2,
     "metadata": {},
     "output_type": "execute_result"
    }
   ],
   "source": [
    "df = pd.read_csv('data/pre-processed.csv', index_col=None) \n",
    "df.head()"
   ]
  },
  {
   "cell_type": "markdown",
   "id": "365dfacd",
   "metadata": {},
   "source": [
    "# Only perform analysis on english movies"
   ]
  },
  {
   "cell_type": "code",
   "execution_count": 3,
   "id": "a23512c7",
   "metadata": {},
   "outputs": [],
   "source": [
    "df = df[df['original_language'] == 'en']"
   ]
  },
  {
   "cell_type": "markdown",
   "id": "958265d4",
   "metadata": {},
   "source": [
    "# General EDA"
   ]
  },
  {
   "cell_type": "code",
   "execution_count": 4,
   "id": "7d9cee12",
   "metadata": {},
   "outputs": [
    {
     "name": "stdout",
     "output_type": "stream",
     "text": [
      "<class 'pandas.core.frame.DataFrame'>\n",
      "Int64Index: 4503 entries, 0 to 4798\n",
      "Data columns (total 21 columns):\n",
      " #   Column                Non-Null Count  Dtype  \n",
      "---  ------                --------------  -----  \n",
      " 0   title                 4503 non-null   object \n",
      " 1   cast                  4503 non-null   object \n",
      " 2   crew                  4503 non-null   object \n",
      " 3   budget                4503 non-null   int64  \n",
      " 4   genres                4503 non-null   object \n",
      " 5   id                    4503 non-null   int64  \n",
      " 6   keywords              4503 non-null   object \n",
      " 7   original_language     4503 non-null   object \n",
      " 8   original_title        4503 non-null   object \n",
      " 9   overview              4503 non-null   object \n",
      " 10  popularity            4503 non-null   float64\n",
      " 11  production_companies  4503 non-null   object \n",
      " 12  production_countries  4503 non-null   object \n",
      " 13  release_date          4503 non-null   object \n",
      " 14  revenue               4503 non-null   int64  \n",
      " 15  runtime               4503 non-null   float64\n",
      " 16  spoken_languages      4503 non-null   object \n",
      " 17  status                4503 non-null   object \n",
      " 18  tagline               3789 non-null   object \n",
      " 19  vote_average          4503 non-null   float64\n",
      " 20  vote_count            4503 non-null   int64  \n",
      "dtypes: float64(3), int64(4), object(14)\n",
      "memory usage: 774.0+ KB\n"
     ]
    }
   ],
   "source": [
    "# get index, columns, non_null count, data type, memory usage\n",
    "df.info()"
   ]
  },
  {
   "cell_type": "code",
   "execution_count": 5,
   "id": "f18d0bbf",
   "metadata": {},
   "outputs": [],
   "source": [
    "# change columns to correct data type\n",
    "# change type of column\n",
    "df[\"title\"] = df[\"title\"].astype(\"string\")\n",
    "df[\"original_language\"] = df[\"original_language\"].astype(\"string\")\n",
    "df[\"original_title\"] = df[\"original_title\"].astype(\"string\")\n",
    "df[\"overview\"] = df[\"overview\"].astype(\"string\")\n",
    "df[\"release_date\"] = pd.to_datetime(df[\"release_date\"])\n",
    "df[\"status\"] = df[\"status\"].astype(\"string\")\n",
    "df[\"tagline\"] = df[\"tagline\"].astype(\"string\")"
   ]
  },
  {
   "cell_type": "code",
   "execution_count": 6,
   "id": "61abd105",
   "metadata": {},
   "outputs": [
    {
     "name": "stdout",
     "output_type": "stream",
     "text": [
      "<class 'pandas.core.frame.DataFrame'>\n",
      "Int64Index: 4503 entries, 0 to 4798\n",
      "Data columns (total 21 columns):\n",
      " #   Column                Non-Null Count  Dtype         \n",
      "---  ------                --------------  -----         \n",
      " 0   title                 4503 non-null   string        \n",
      " 1   cast                  4503 non-null   object        \n",
      " 2   crew                  4503 non-null   object        \n",
      " 3   budget                4503 non-null   int64         \n",
      " 4   genres                4503 non-null   object        \n",
      " 5   id                    4503 non-null   int64         \n",
      " 6   keywords              4503 non-null   object        \n",
      " 7   original_language     4503 non-null   string        \n",
      " 8   original_title        4503 non-null   string        \n",
      " 9   overview              4503 non-null   string        \n",
      " 10  popularity            4503 non-null   float64       \n",
      " 11  production_companies  4503 non-null   object        \n",
      " 12  production_countries  4503 non-null   object        \n",
      " 13  release_date          4503 non-null   datetime64[ns]\n",
      " 14  revenue               4503 non-null   int64         \n",
      " 15  runtime               4503 non-null   float64       \n",
      " 16  spoken_languages      4503 non-null   object        \n",
      " 17  status                4503 non-null   string        \n",
      " 18  tagline               3789 non-null   string        \n",
      " 19  vote_average          4503 non-null   float64       \n",
      " 20  vote_count            4503 non-null   int64         \n",
      "dtypes: datetime64[ns](1), float64(3), int64(4), object(7), string(6)\n",
      "memory usage: 774.0+ KB\n"
     ]
    }
   ],
   "source": [
    "df.info()"
   ]
  },
  {
   "cell_type": "code",
   "execution_count": 7,
   "id": "d33c8ab4",
   "metadata": {},
   "outputs": [
    {
     "data": {
      "text/html": [
       "<div>\n",
       "<style scoped>\n",
       "    .dataframe tbody tr th:only-of-type {\n",
       "        vertical-align: middle;\n",
       "    }\n",
       "\n",
       "    .dataframe tbody tr th {\n",
       "        vertical-align: top;\n",
       "    }\n",
       "\n",
       "    .dataframe thead th {\n",
       "        text-align: right;\n",
       "    }\n",
       "</style>\n",
       "<table border=\"1\" class=\"dataframe\">\n",
       "  <thead>\n",
       "    <tr style=\"text-align: right;\">\n",
       "      <th></th>\n",
       "      <th>budget</th>\n",
       "      <th>id</th>\n",
       "      <th>popularity</th>\n",
       "      <th>revenue</th>\n",
       "      <th>runtime</th>\n",
       "      <th>vote_average</th>\n",
       "      <th>vote_count</th>\n",
       "    </tr>\n",
       "  </thead>\n",
       "  <tbody>\n",
       "    <tr>\n",
       "      <th>count</th>\n",
       "      <td>4.503000e+03</td>\n",
       "      <td>4503.000000</td>\n",
       "      <td>4503.000000</td>\n",
       "      <td>4.503000e+03</td>\n",
       "      <td>4503.000000</td>\n",
       "      <td>4503.000000</td>\n",
       "      <td>4503.000000</td>\n",
       "    </tr>\n",
       "    <tr>\n",
       "      <th>mean</th>\n",
       "      <td>3.040786e+07</td>\n",
       "      <td>55627.086387</td>\n",
       "      <td>22.187274</td>\n",
       "      <td>8.651726e+07</td>\n",
       "      <td>106.495225</td>\n",
       "      <td>6.068377</td>\n",
       "      <td>719.343105</td>\n",
       "    </tr>\n",
       "    <tr>\n",
       "      <th>std</th>\n",
       "      <td>4.151041e+07</td>\n",
       "      <td>86808.746123</td>\n",
       "      <td>32.516649</td>\n",
       "      <td>1.669837e+08</td>\n",
       "      <td>22.341001</td>\n",
       "      <td>1.178534</td>\n",
       "      <td>1263.547850</td>\n",
       "    </tr>\n",
       "    <tr>\n",
       "      <th>min</th>\n",
       "      <td>0.000000e+00</td>\n",
       "      <td>5.000000</td>\n",
       "      <td>0.000372</td>\n",
       "      <td>0.000000e+00</td>\n",
       "      <td>0.000000</td>\n",
       "      <td>0.000000</td>\n",
       "      <td>0.000000</td>\n",
       "    </tr>\n",
       "    <tr>\n",
       "      <th>25%</th>\n",
       "      <td>1.000000e+06</td>\n",
       "      <td>9021.500000</td>\n",
       "      <td>5.010111</td>\n",
       "      <td>0.000000e+00</td>\n",
       "      <td>93.000000</td>\n",
       "      <td>5.600000</td>\n",
       "      <td>58.500000</td>\n",
       "    </tr>\n",
       "    <tr>\n",
       "      <th>50%</th>\n",
       "      <td>1.500000e+07</td>\n",
       "      <td>14435.000000</td>\n",
       "      <td>13.706357</td>\n",
       "      <td>2.204428e+07</td>\n",
       "      <td>103.000000</td>\n",
       "      <td>6.200000</td>\n",
       "      <td>252.000000</td>\n",
       "    </tr>\n",
       "    <tr>\n",
       "      <th>75%</th>\n",
       "      <td>4.000000e+07</td>\n",
       "      <td>57104.000000</td>\n",
       "      <td>29.255485</td>\n",
       "      <td>9.821056e+07</td>\n",
       "      <td>117.000000</td>\n",
       "      <td>6.800000</td>\n",
       "      <td>788.500000</td>\n",
       "    </tr>\n",
       "    <tr>\n",
       "      <th>max</th>\n",
       "      <td>3.800000e+08</td>\n",
       "      <td>447027.000000</td>\n",
       "      <td>875.581305</td>\n",
       "      <td>2.787965e+09</td>\n",
       "      <td>338.000000</td>\n",
       "      <td>10.000000</td>\n",
       "      <td>13752.000000</td>\n",
       "    </tr>\n",
       "  </tbody>\n",
       "</table>\n",
       "</div>"
      ],
      "text/plain": [
       "             budget             id   popularity       revenue      runtime  \\\n",
       "count  4.503000e+03    4503.000000  4503.000000  4.503000e+03  4503.000000   \n",
       "mean   3.040786e+07   55627.086387    22.187274  8.651726e+07   106.495225   \n",
       "std    4.151041e+07   86808.746123    32.516649  1.669837e+08    22.341001   \n",
       "min    0.000000e+00       5.000000     0.000372  0.000000e+00     0.000000   \n",
       "25%    1.000000e+06    9021.500000     5.010111  0.000000e+00    93.000000   \n",
       "50%    1.500000e+07   14435.000000    13.706357  2.204428e+07   103.000000   \n",
       "75%    4.000000e+07   57104.000000    29.255485  9.821056e+07   117.000000   \n",
       "max    3.800000e+08  447027.000000   875.581305  2.787965e+09   338.000000   \n",
       "\n",
       "       vote_average    vote_count  \n",
       "count   4503.000000   4503.000000  \n",
       "mean       6.068377    719.343105  \n",
       "std        1.178534   1263.547850  \n",
       "min        0.000000      0.000000  \n",
       "25%        5.600000     58.500000  \n",
       "50%        6.200000    252.000000  \n",
       "75%        6.800000    788.500000  \n",
       "max       10.000000  13752.000000  "
      ]
     },
     "execution_count": 7,
     "metadata": {},
     "output_type": "execute_result"
    }
   ],
   "source": [
    "df.describe()"
   ]
  },
  {
   "cell_type": "markdown",
   "id": "736c8dcb",
   "metadata": {},
   "source": [
    "# Pre-Processing Steps of \"Overview\" Column"
   ]
  },
  {
   "cell_type": "markdown",
   "id": "8157bba0",
   "metadata": {},
   "source": [
    "### Get a list of just the \"overview\" column"
   ]
  },
  {
   "cell_type": "code",
   "execution_count": 8,
   "id": "982752e9",
   "metadata": {},
   "outputs": [],
   "source": [
    "def to_list(df):\n",
    "    \n",
    "    return list(df['overview'])"
   ]
  },
  {
   "cell_type": "markdown",
   "id": "e7f60a20",
   "metadata": {},
   "source": [
    "### Make all terms lowercase\n",
    "Return a numpy array"
   ]
  },
  {
   "cell_type": "code",
   "execution_count": 9,
   "id": "c9b1360b",
   "metadata": {},
   "outputs": [],
   "source": [
    "def lower_case(overview):\n",
    "    \n",
    "    return np.char.lower(overview)"
   ]
  },
  {
   "cell_type": "markdown",
   "id": "92dfb439",
   "metadata": {},
   "source": [
    "### Remove stop words\n",
    "The most commonly occurring words that don’t give any additional value to the document vector. "
   ]
  },
  {
   "cell_type": "code",
   "execution_count": 10,
   "id": "7995c332",
   "metadata": {},
   "outputs": [],
   "source": [
    "def remove_stopwords(overview):\n",
    "\n",
    "    overview = np.char.split(overview)\n",
    "\n",
    "    cachedStopWords = stopwords.words(\"english\")\n",
    "\n",
    "    for i, value in enumerate(overview.tolist()):\n",
    "        overview[i] = ' '.join([word for word in value if word not in cachedStopWords])  \n",
    "    \n",
    "    \n",
    "    return list(overview)\n"
   ]
  },
  {
   "cell_type": "markdown",
   "id": "03ff5664",
   "metadata": {},
   "source": [
    "### Remove punctuation\n",
    "Except for the character \"'\" as we need that character when removing stopwords such as \"hasn't\""
   ]
  },
  {
   "cell_type": "code",
   "execution_count": 11,
   "id": "c731725b",
   "metadata": {},
   "outputs": [],
   "source": [
    "def remove_punctuation(overview):\n",
    "    stripPunct = str.maketrans('', '', ''.join(string.punctuation.split(\"'\")))\n",
    "\n",
    "    # works for 'any.string.inputted'\n",
    "    return np.array([sentence.translate(stripPunct) for sentence in overview])"
   ]
  },
  {
   "cell_type": "markdown",
   "id": "489a89af",
   "metadata": {},
   "source": [
    "### Remove apostrophe"
   ]
  },
  {
   "cell_type": "code",
   "execution_count": 12,
   "id": "446d6bcf",
   "metadata": {},
   "outputs": [],
   "source": [
    "def remove_apostrophe(overview):\n",
    "    stripPunct = str.maketrans('', '', \"’‘''\")\n",
    "\n",
    "    return np.array([sentence.translate(stripPunct) for sentence in overview])\n"
   ]
  },
  {
   "cell_type": "markdown",
   "id": "f2da3bdc",
   "metadata": {},
   "source": [
    "### Remove single characters\n",
    "It is unlikely a single character will give us useful information"
   ]
  },
  {
   "cell_type": "code",
   "execution_count": 13,
   "id": "446fdfc2",
   "metadata": {},
   "outputs": [],
   "source": [
    "def remove_chars(overview):\n",
    "    overview = np.char.split(overview)\n",
    "\n",
    "    for i, value in enumerate(overview.tolist()):\n",
    "        overview[i] = ' '.join([word for word in value if len(word) > 1])  \n",
    "    \n",
    "    \n",
    "    return list(overview)"
   ]
  },
  {
   "cell_type": "markdown",
   "id": "0c0977f2",
   "metadata": {},
   "source": [
    "### Lemmatization\n",
    "Lemmatization is the process of grouping together the different inflected forms of a word so they can be analyzed as a single item. Lemmatization is similar to stemming but it brings context to the words. So it links words with similar meanings to one word.\n",
    "<br><br>\n",
    "-> rocks : rock <br>\n",
    "-> corpora : corpus <br>\n",
    "-> better : good "
   ]
  },
  {
   "cell_type": "code",
   "execution_count": 14,
   "id": "131c9e01",
   "metadata": {},
   "outputs": [],
   "source": [
    "def lemmatizer(overview):\n",
    "    lemmatizer = WordNetLemmatizer()\n",
    "\n",
    "    for i, value in enumerate(overview.tolist()):\n",
    "        pos_tag(word_tokenize(value))\n",
    "        lemma = []\n",
    "        \n",
    "        for word, tag in pos_tag(word_tokenize(value)):\n",
    "            wntag = tag[0].lower()\n",
    "            wntag = wntag if wntag in ['a', 'r', 'n', 'v'] else None\n",
    "            if not wntag:\n",
    "                lemma.append(word)\n",
    "            else:\n",
    "                lemma.append(lemmatizer.lemmatize(word, wntag))\n",
    "        \n",
    "        overview[i] = ' '.join(lemma)\n",
    "    \n",
    "    return list(overview)"
   ]
  },
  {
   "cell_type": "markdown",
   "id": "5e0be3a3",
   "metadata": {},
   "source": [
    "## Pre-Processing Order of Steps"
   ]
  },
  {
   "cell_type": "code",
   "execution_count": 15,
   "id": "6919e381",
   "metadata": {},
   "outputs": [
    {
     "name": "stdout",
     "output_type": "stream",
     "text": [
      "-------Step 1: To list-------\n",
      "['A cryptic message from Bond’s past sends him on a trail to uncover a sinister organization. While M battles political forces to keep the secret service alive, Bond peels back the layers of deceit to reveal the terrible truth behind SPECTRE.']\n",
      "\n",
      "-------Step 2: Lower case-------\n",
      "['a cryptic message from bond’s past sends him on a trail to uncover a sinister organization. while m battles political forces to keep the secret service alive, bond peels back the layers of deceit to reveal the terrible truth behind spectre.']\n",
      "\n",
      "-------Step 3: Remove punctuation-------\n",
      "['a cryptic message from bond’s past sends him on a trail to uncover a sinister organization while m battles political forces to keep the secret service alive bond peels back the layers of deceit to reveal the terrible truth behind spectre']\n",
      "\n",
      "-------Step 4: Remove single characters-------\n",
      "['cryptic message from bond’s past sends him on trail to uncover sinister organization while battles political forces to keep the secret service alive bond peels back the layers of deceit to reveal the terrible truth behind spectre']\n",
      "\n",
      "-------Step 5: Remove stopwords-------\n",
      "['cryptic message bond’s past sends trail uncover sinister organization battles political forces keep secret service alive bond peels back layers deceit reveal terrible truth behind spectre']\n",
      "\n",
      "-------Step 6: Remove apostrophe-------\n",
      "['cryptic message bonds past sends trail uncover sinister organization battles political forces keep secret service alive bond peels back layers deceit reveal terrible truth behind spectre']\n",
      "\n",
      "-------Step 7: Lemmatizing-------\n",
      "['cryptic message bond past sends trail uncover sinister organization battle political force keep secret service alive bond peel back layer deceit reveal terrible truth behind spectre']\n",
      "\n",
      "-------Step 8: Remove single characters, again-------\n",
      "['cryptic message bond past sends trail uncover sinister organization battle political force keep secret service alive bond peel back layer deceit reveal terrible truth behind spectre']\n",
      "\n"
     ]
    }
   ],
   "source": [
    "# Get a list of just the \"overview\" column\n",
    "overview = to_list(df)\n",
    "print(\"-------Step 1: To list-------\")\n",
    "print(overview[2:3])\n",
    "print('')\n",
    "\n",
    "overview = lower_case(overview)\n",
    "print(\"-------Step 2: Lower case-------\")\n",
    "print(overview[2:3])\n",
    "print('')\n",
    "\n",
    "overview = remove_punctuation(overview)\n",
    "print(\"-------Step 3: Remove punctuation-------\")\n",
    "print(overview[2:3])\n",
    "print('')\n",
    "\n",
    "overview = remove_chars(overview)\n",
    "print(\"-------Step 4: Remove single characters-------\")\n",
    "print(overview[2:3])\n",
    "print('')\n",
    "\n",
    "overview = remove_stopwords(overview)\n",
    "print(\"-------Step 5: Remove stopwords-------\")\n",
    "print(overview[2:3])\n",
    "print('')\n",
    "\n",
    "# remove apostrophe after remove stopwords as \"doesn't\" is a stopword for example\n",
    "overview = remove_apostrophe(overview)\n",
    "print(\"-------Step 6: Remove apostrophe-------\")\n",
    "print(overview[2:3])\n",
    "print('')\n",
    "\n",
    "overview = lemmatizer(overview)\n",
    "print(\"-------Step 7: Lemmatizing-------\")\n",
    "print(overview[2:3])\n",
    "print('')\n",
    "\n",
    "# after lemmtizer some single characters are created\n",
    "overview = remove_chars(overview)\n",
    "print(\"-------Step 8: Remove single characters, again-------\")\n",
    "print(overview[2:3])\n",
    "print('')"
   ]
  },
  {
   "cell_type": "markdown",
   "id": "3da95ce3",
   "metadata": {},
   "source": [
    "# Get TF-IDF of Overview Column\n",
    "TF = (Number of time the word occurs in the text) / (Total number of words in text) <br>\n",
    "IDF = (Total number of documents / Number of documents with word t in it) <br>\n",
    "TF-IDF = TF * IDF"
   ]
  },
  {
   "cell_type": "markdown",
   "id": "5082f087",
   "metadata": {},
   "source": [
    "### Convert a collection of text documents to a matrix of token counts."
   ]
  },
  {
   "cell_type": "code",
   "execution_count": 16,
   "id": "75bd7b45",
   "metadata": {},
   "outputs": [],
   "source": [
    "vectorizer = CountVectorizer()\n",
    "X = vectorizer.fit_transform(overview)"
   ]
  },
  {
   "cell_type": "code",
   "execution_count": 17,
   "id": "82f54dd5",
   "metadata": {},
   "outputs": [
    {
     "data": {
      "text/plain": [
       "array(['angelina', 'angelov', 'angels', 'anger', 'angie', 'anglade',\n",
       "       'angle', 'anglican', 'anglo', 'angloirish', 'anglomaratha',\n",
       "       'angrily', 'angry', 'angst', 'angus', 'animal', 'animalsand',\n",
       "       'animalwarriors', 'animate', 'animated'], dtype=object)"
      ]
     },
     "execution_count": 17,
     "metadata": {},
     "output_type": "execute_result"
    }
   ],
   "source": [
    "vectorizer.get_feature_names_out()[1000:1020]"
   ]
  },
  {
   "cell_type": "code",
   "execution_count": 18,
   "id": "306a45a6",
   "metadata": {},
   "outputs": [
    {
     "data": {
      "text/plain": [
       "(4503, 18918)"
      ]
     },
     "execution_count": 18,
     "metadata": {},
     "output_type": "execute_result"
    }
   ],
   "source": [
    "X.toarray().shape"
   ]
  },
  {
   "cell_type": "markdown",
   "id": "d7a320bc",
   "metadata": {},
   "source": [
    "### We transform a count matrix to a normalized TF-IDF representation to measure weights"
   ]
  },
  {
   "cell_type": "code",
   "execution_count": 19,
   "id": "2fa4aec2",
   "metadata": {},
   "outputs": [],
   "source": [
    "transformer = TfidfTransformer()\n",
    "transformed_weights = transformer.fit_transform(X)\n",
    "weights = np.asarray(transformed_weights.mean(axis=0)).ravel().tolist()"
   ]
  },
  {
   "cell_type": "markdown",
   "id": "f81c944b",
   "metadata": {},
   "source": [
    "### Get the top 10 words by greatest TF-IDF"
   ]
  },
  {
   "cell_type": "code",
   "execution_count": 20,
   "id": "f9e0cbb3",
   "metadata": {},
   "outputs": [
    {
     "data": {
      "text/html": [
       "<div>\n",
       "<style scoped>\n",
       "    .dataframe tbody tr th:only-of-type {\n",
       "        vertical-align: middle;\n",
       "    }\n",
       "\n",
       "    .dataframe tbody tr th {\n",
       "        vertical-align: top;\n",
       "    }\n",
       "\n",
       "    .dataframe thead th {\n",
       "        text-align: right;\n",
       "    }\n",
       "</style>\n",
       "<table border=\"1\" class=\"dataframe\">\n",
       "  <thead>\n",
       "    <tr style=\"text-align: right;\">\n",
       "      <th></th>\n",
       "      <th>term</th>\n",
       "      <th>weight</th>\n",
       "    </tr>\n",
       "  </thead>\n",
       "  <tbody>\n",
       "    <tr>\n",
       "      <th>9949</th>\n",
       "      <td>life</td>\n",
       "      <td>0.015623</td>\n",
       "    </tr>\n",
       "    <tr>\n",
       "      <th>6451</th>\n",
       "      <td>find</td>\n",
       "      <td>0.014790</td>\n",
       "    </tr>\n",
       "    <tr>\n",
       "      <th>11737</th>\n",
       "      <td>new</td>\n",
       "      <td>0.013121</td>\n",
       "    </tr>\n",
       "    <tr>\n",
       "      <th>18837</th>\n",
       "      <td>young</td>\n",
       "      <td>0.012580</td>\n",
       "    </tr>\n",
       "    <tr>\n",
       "      <th>12162</th>\n",
       "      <td>one</td>\n",
       "      <td>0.012341</td>\n",
       "    </tr>\n",
       "    <tr>\n",
       "      <th>18699</th>\n",
       "      <td>world</td>\n",
       "      <td>0.011675</td>\n",
       "    </tr>\n",
       "    <tr>\n",
       "      <th>10462</th>\n",
       "      <td>man</td>\n",
       "      <td>0.011403</td>\n",
       "    </tr>\n",
       "    <tr>\n",
       "      <th>7112</th>\n",
       "      <td>get</td>\n",
       "      <td>0.011267</td>\n",
       "    </tr>\n",
       "    <tr>\n",
       "      <th>16606</th>\n",
       "      <td>take</td>\n",
       "      <td>0.011110</td>\n",
       "    </tr>\n",
       "    <tr>\n",
       "      <th>17477</th>\n",
       "      <td>two</td>\n",
       "      <td>0.011003</td>\n",
       "    </tr>\n",
       "  </tbody>\n",
       "</table>\n",
       "</div>"
      ],
      "text/plain": [
       "        term    weight\n",
       "9949    life  0.015623\n",
       "6451    find  0.014790\n",
       "11737    new  0.013121\n",
       "18837  young  0.012580\n",
       "12162    one  0.012341\n",
       "18699  world  0.011675\n",
       "10462    man  0.011403\n",
       "7112     get  0.011267\n",
       "16606   take  0.011110\n",
       "17477    two  0.011003"
      ]
     },
     "execution_count": 20,
     "metadata": {},
     "output_type": "execute_result"
    }
   ],
   "source": [
    "weights_df = pd.DataFrame({'term': vectorizer.get_feature_names_out(), 'weight': weights})\n",
    "word_weights = np.asarray(transformed_weights.mean(axis=0)).ravel().tolist()\n",
    "weights_df.sort_values(by='weight', ascending=False).head(10)"
   ]
  },
  {
   "cell_type": "markdown",
   "id": "0459d522",
   "metadata": {},
   "source": [
    "# Determine if the summation of TF-IDF scores of all words in each movie overview correlates with popularity\n",
    "sum(TF-IDF weights of words in each sentence of overview) / count(words in each sentence of overview)"
   ]
  },
  {
   "cell_type": "markdown",
   "id": "e4dd58be",
   "metadata": {},
   "source": [
    "### Create a new dataframe column \"TF-IDF Total\"\n",
    "This column is the sum of each word in the \"Overviews\" column's TF-IDF score"
   ]
  },
  {
   "cell_type": "code",
   "execution_count": 29,
   "id": "ab92144e",
   "metadata": {},
   "outputs": [],
   "source": [
    "movie_overview_weights = transformed_weights.mean(axis=1).ravel().tolist()[0]"
   ]
  },
  {
   "cell_type": "markdown",
   "id": "b9cc59e0",
   "metadata": {},
   "source": [
    "### Create a new dataframe of all relevant information for the final analysis"
   ]
  },
  {
   "cell_type": "code",
   "execution_count": 32,
   "id": "a08decd9",
   "metadata": {},
   "outputs": [],
   "source": [
    "df = pd.DataFrame({'Popularity':list(df['popularity']),'Overview':overview, 'TF-IDF Total': movie_overview_weights})"
   ]
  },
  {
   "cell_type": "code",
   "execution_count": 33,
   "id": "1ca1a16a",
   "metadata": {},
   "outputs": [
    {
     "data": {
      "text/html": [
       "<div>\n",
       "<style scoped>\n",
       "    .dataframe tbody tr th:only-of-type {\n",
       "        vertical-align: middle;\n",
       "    }\n",
       "\n",
       "    .dataframe tbody tr th {\n",
       "        vertical-align: top;\n",
       "    }\n",
       "\n",
       "    .dataframe thead th {\n",
       "        text-align: right;\n",
       "    }\n",
       "</style>\n",
       "<table border=\"1\" class=\"dataframe\">\n",
       "  <thead>\n",
       "    <tr style=\"text-align: right;\">\n",
       "      <th></th>\n",
       "      <th>Popularity</th>\n",
       "      <th>Overview</th>\n",
       "      <th>TF-IDF Total</th>\n",
       "    </tr>\n",
       "  </thead>\n",
       "  <tbody>\n",
       "    <tr>\n",
       "      <th>0</th>\n",
       "      <td>150.437577</td>\n",
       "      <td>22nd century paraplegic marine dispatch moon p...</td>\n",
       "      <td>0.000205</td>\n",
       "    </tr>\n",
       "    <tr>\n",
       "      <th>1</th>\n",
       "      <td>139.082615</td>\n",
       "      <td>captain barbossa long believe dead come back l...</td>\n",
       "      <td>0.000209</td>\n",
       "    </tr>\n",
       "    <tr>\n",
       "      <th>2</th>\n",
       "      <td>107.376788</td>\n",
       "      <td>cryptic message bond past sends trail uncover ...</td>\n",
       "      <td>0.000255</td>\n",
       "    </tr>\n",
       "    <tr>\n",
       "      <th>3</th>\n",
       "      <td>112.312950</td>\n",
       "      <td>follow death district attorney harvey dent bat...</td>\n",
       "      <td>0.000309</td>\n",
       "    </tr>\n",
       "    <tr>\n",
       "      <th>4</th>\n",
       "      <td>43.926995</td>\n",
       "      <td>john carter warweary former military captain w...</td>\n",
       "      <td>0.000261</td>\n",
       "    </tr>\n",
       "  </tbody>\n",
       "</table>\n",
       "</div>"
      ],
      "text/plain": [
       "   Popularity                                           Overview  TF-IDF Total\n",
       "0  150.437577  22nd century paraplegic marine dispatch moon p...      0.000205\n",
       "1  139.082615  captain barbossa long believe dead come back l...      0.000209\n",
       "2  107.376788  cryptic message bond past sends trail uncover ...      0.000255\n",
       "3  112.312950  follow death district attorney harvey dent bat...      0.000309\n",
       "4   43.926995  john carter warweary former military captain w...      0.000261"
      ]
     },
     "execution_count": 33,
     "metadata": {},
     "output_type": "execute_result"
    }
   ],
   "source": [
    "df.head()"
   ]
  },
  {
   "cell_type": "markdown",
   "id": "d6076cb6",
   "metadata": {},
   "source": [
    "### Find if \"Popularity\" column correlates with \"TF-IDF Total\"\n",
    "Understand the relationships between two variables at a time via a pairwise plot"
   ]
  },
  {
   "cell_type": "code",
   "execution_count": 34,
   "id": "bc76b7fe",
   "metadata": {},
   "outputs": [
    {
     "data": {
      "image/png": "[encoded data removed]",
      "text/plain": [
       "<Figure size 360x360 with 6 Axes>"
      ]
     },
     "metadata": {
      "needs_background": "light"
     },
     "output_type": "display_data"
    }
   ],
   "source": [
    "dfs = df[list(df._get_numeric_data().columns)]\n",
    "sns.pairplot(dfs)  # pairwise plots - may take a long time to run\n",
    "plt.show()"
   ]
  },
  {
   "cell_type": "markdown",
   "id": "1274b7e8",
   "metadata": {},
   "source": [
    "The Henze-Zirkler Multivariate Normality Test determines whether or not a group of variables follows a multivariate normal distribution. The null and alternative hypotheses for the test are as follows:\n",
    "\n",
    "H0 (null): The variables follow a multivariate normal distribution.\n",
    "\n",
    "Ha (alternative): The variables do not follow a multivariate normal distribution."
   ]
  },
  {
   "cell_type": "code",
   "execution_count": 35,
   "id": "ca9eb73c",
   "metadata": {},
   "outputs": [
    {
     "data": {
      "text/plain": [
       "HZResults(hz=124.42226232546052, pval=2.0204302382025815e-117, normal=False)"
      ]
     },
     "execution_count": 35,
     "metadata": {},
     "output_type": "execute_result"
    }
   ],
   "source": [
    "#perform the Henze-Zirkler Multivariate Normality Test\n",
    "multivariate_normality(dfs, alpha=.05)\n",
    "\n",
    "# This tells us that our results are not normal?"
   ]
  },
  {
   "cell_type": "markdown",
   "id": "caa4ae83",
   "metadata": {},
   "source": [
    "# Key findings:\n",
    "The most popular movies have descriptions with combined TF-IDF scores from all words of the overview as close to the mean of TF-IDF combined word total as possible. What can the writers of movie descriptions learn from this? The most popular movies choose to use words on average that are not extremely common but also not extremely rare. It is best to play it safe while at the same time showing more creativity than your average 5th grader when writing movie reviews. Just be average."
   ]
  },
  {
   "cell_type": "code",
   "execution_count": 36,
   "id": "9c067471",
   "metadata": {},
   "outputs": [],
   "source": [
    "pd.set_option('max_colwidth', 1000)"
   ]
  },
  {
   "cell_type": "markdown",
   "id": "49dbbf22",
   "metadata": {},
   "source": [
    "### TF-IDF combined score low examples"
   ]
  },
  {
   "cell_type": "code",
   "execution_count": 37,
   "id": "6a332bff",
   "metadata": {},
   "outputs": [
    {
     "data": {
      "text/html": [
       "<div>\n",
       "<style scoped>\n",
       "    .dataframe tbody tr th:only-of-type {\n",
       "        vertical-align: middle;\n",
       "    }\n",
       "\n",
       "    .dataframe tbody tr th {\n",
       "        vertical-align: top;\n",
       "    }\n",
       "\n",
       "    .dataframe thead th {\n",
       "        text-align: right;\n",
       "    }\n",
       "</style>\n",
       "<table border=\"1\" class=\"dataframe\">\n",
       "  <thead>\n",
       "    <tr style=\"text-align: right;\">\n",
       "      <th></th>\n",
       "      <th>Popularity</th>\n",
       "      <th>Overview</th>\n",
       "      <th>TF-IDF Total</th>\n",
       "    </tr>\n",
       "  </thead>\n",
       "  <tbody>\n",
       "    <tr>\n",
       "      <th>4141</th>\n",
       "      <td>0.020600</td>\n",
       "      <td></td>\n",
       "      <td>0.000000</td>\n",
       "    </tr>\n",
       "    <tr>\n",
       "      <th>4189</th>\n",
       "      <td>0.006943</td>\n",
       "      <td>film daniel davila</td>\n",
       "      <td>0.000087</td>\n",
       "    </tr>\n",
       "    <tr>\n",
       "      <th>4351</th>\n",
       "      <td>0.018087</td>\n",
       "      <td>prequel 5th degree</td>\n",
       "      <td>0.000091</td>\n",
       "    </tr>\n",
       "    <tr>\n",
       "      <th>3360</th>\n",
       "      <td>0.114342</td>\n",
       "      <td>8th installment khiladi series</td>\n",
       "      <td>0.000103</td>\n",
       "    </tr>\n",
       "    <tr>\n",
       "      <th>3377</th>\n",
       "      <td>3.865122</td>\n",
       "      <td>ten story inspire one ten commandment</td>\n",
       "      <td>0.000105</td>\n",
       "    </tr>\n",
       "    <tr>\n",
       "      <th>2138</th>\n",
       "      <td>3.011205</td>\n",
       "      <td>allstar epic retell christ life</td>\n",
       "      <td>0.000113</td>\n",
       "    </tr>\n",
       "    <tr>\n",
       "      <th>2790</th>\n",
       "      <td>2.303865</td>\n",
       "      <td>story woman love dog husband husband lose dog</td>\n",
       "      <td>0.000114</td>\n",
       "    </tr>\n",
       "    <tr>\n",
       "      <th>4309</th>\n",
       "      <td>2.777540</td>\n",
       "      <td>hilarious look universes fervent fan</td>\n",
       "      <td>0.000115</td>\n",
       "    </tr>\n",
       "    <tr>\n",
       "      <th>3240</th>\n",
       "      <td>0.587276</td>\n",
       "      <td>surfer become head major company</td>\n",
       "      <td>0.000116</td>\n",
       "    </tr>\n",
       "    <tr>\n",
       "      <th>3028</th>\n",
       "      <td>5.107235</td>\n",
       "      <td>shakespeare play transplant 1930s setting</td>\n",
       "      <td>0.000116</td>\n",
       "    </tr>\n",
       "  </tbody>\n",
       "</table>\n",
       "</div>"
      ],
      "text/plain": [
       "      Popularity                                       Overview  TF-IDF Total\n",
       "4141    0.020600                                                     0.000000\n",
       "4189    0.006943                             film daniel davila      0.000087\n",
       "4351    0.018087                             prequel 5th degree      0.000091\n",
       "3360    0.114342                 8th installment khiladi series      0.000103\n",
       "3377    3.865122          ten story inspire one ten commandment      0.000105\n",
       "2138    3.011205                allstar epic retell christ life      0.000113\n",
       "2790    2.303865  story woman love dog husband husband lose dog      0.000114\n",
       "4309    2.777540           hilarious look universes fervent fan      0.000115\n",
       "3240    0.587276               surfer become head major company      0.000116\n",
       "3028    5.107235      shakespeare play transplant 1930s setting      0.000116"
      ]
     },
     "execution_count": 37,
     "metadata": {},
     "output_type": "execute_result"
    }
   ],
   "source": [
    "df.sort_values(by='TF-IDF Total', ascending=True).head(10)"
   ]
  },
  {
   "cell_type": "markdown",
   "id": "e592d3a3",
   "metadata": {},
   "source": [
    "### TF-IDF combined score high examples"
   ]
  },
  {
   "cell_type": "code",
   "execution_count": 38,
   "id": "9c3a4ad4",
   "metadata": {},
   "outputs": [
    {
     "data": {
      "text/html": [
       "<div>\n",
       "<style scoped>\n",
       "    .dataframe tbody tr th:only-of-type {\n",
       "        vertical-align: middle;\n",
       "    }\n",
       "\n",
       "    .dataframe tbody tr th {\n",
       "        vertical-align: top;\n",
       "    }\n",
       "\n",
       "    .dataframe thead th {\n",
       "        text-align: right;\n",
       "    }\n",
       "</style>\n",
       "<table border=\"1\" class=\"dataframe\">\n",
       "  <thead>\n",
       "    <tr style=\"text-align: right;\">\n",
       "      <th></th>\n",
       "      <th>Popularity</th>\n",
       "      <th>Overview</th>\n",
       "      <th>TF-IDF Total</th>\n",
       "    </tr>\n",
       "  </thead>\n",
       "  <tbody>\n",
       "    <tr>\n",
       "      <th>4292</th>\n",
       "      <td>0.052942</td>\n",
       "      <td>world change faster ever technology accelerate job security decline income inequality increase people overwork underpaid less time freedom people leave wonder better way change economy lead rise entrepreneur fastest dependable controllable way become wealthy business documentary gather todays best expert think leader forever change view work wealth feature expert jordan adler john assaraf kody bateman chris brogan richard bliss brooke ali brown le brown jack canfield harry dent jr dr linda ferrell dr oc ferrell mark victor hansen kevin harrington kim kiyosaki robert kiyosaki joseph mariano dr ivan misner paul zane pilzer bob proctor susan sly loren slocum kevin thompson brian tracy eric worre sandra yancey</td>\n",
       "      <td>0.000489</td>\n",
       "    </tr>\n",
       "    <tr>\n",
       "      <th>3381</th>\n",
       "      <td>1.688495</td>\n",
       "      <td>canadian make comedydrama set hamilton ontario 1954 sweet time goofy story become increasingly poignant minute tick fictional tale wayward 9th grader ralph adam butcher secretly live widow hospitalized mother remain immersed coma frequently trouble father fitzpatrick gordon pinsent principal allboys catholic school ralph consider something joke among peer decides pull miracle could save mother ie win boston marathon coach younger priest former runner father hibbert campbell scott whose cynicism lift boys pure hope ralph applies unlikely mission fend naysayer get help along challenge path sundry ally friend</td>\n",
       "      <td>0.000453</td>\n",
       "    </tr>\n",
       "    <tr>\n",
       "      <th>3920</th>\n",
       "      <td>0.209475</td>\n",
       "      <td>truly mad concoction blend 1950s juvenile delinquent scifi melodrama songanddance touch horror everything right combination create engage big screen spectacle curious curiously entertain story involve one jonathan xavier devote misfit gang incidentally exile earth far reach outer space johnny former girlfriend bliss leave steal resurrection suit cosmic mindbending uniform give owner power others along way several highly stylized musical number lot genuinely humorous dialogue wacky plottwist two beautifully capture last kodaks blackandwhite plusx film stock</td>\n",
       "      <td>0.000445</td>\n",
       "    </tr>\n",
       "    <tr>\n",
       "      <th>3485</th>\n",
       "      <td>0.999655</td>\n",
       "      <td>henry amp tell courageous story jack austin williams brave young boy dealt life change blow low confidence fill selfdoubt hope seem lose mysterious stranger name henry richard gere appear touch pin henry sweep jack away magical world illness longer exist new york yankee legends play forever incredible journey bring jack face face babe ruth chazz palminteri thurman munson paul simon lefty gomez luis guzman mickey mantle david mantle teach jack face fear never give movie climax yankee stadium jack must test newfound courage save season find way home feature starcast unforgettable character henry amp heartwarming movie experience entire family message hope… life throw curve… swing away</td>\n",
       "      <td>0.000443</td>\n",
       "    </tr>\n",
       "    <tr>\n",
       "      <th>3924</th>\n",
       "      <td>1.619635</td>\n",
       "      <td>slacker uprise movie michael moor tour college swing state 2004 election goal encourage 18–29 year old vote response receive film reedited version captain mike across america play toronto international film festival 2007 one first feature length film make know director release free legal download online free download available reside united state canada film also make available free online view download lycos cinema platform well itunes bliptv onenightonly run michigan theater michael moore speak briefly film available dvd format slacker uprising feature live performance appearance eddie vedder roseanne barr joan baez tom morello rem steve earle viggo mortensen original score antiflag</td>\n",
       "      <td>0.000442</td>\n",
       "    </tr>\n",
       "    <tr>\n",
       "      <th>1596</th>\n",
       "      <td>20.063165</td>\n",
       "      <td>3d actionthriller sanctum executive producer jam cameron follow team underwater cave diver treacherous expedition largest beautiful least accessible cave system earth tropical storm force deep cavern must fight rag water deadly terrain creep panic search unknown escape route sea master diver frank mcguire richard roxburgh explore south pacific esaala cave month exit cut flash flood frank teamincluding 17yearold son josh rhys wakefield financier carl hurley ioan gruffuddare force radically alter plan dwindle supply crew must navigate underwater labyrinth make soon confront unavoidable question survive trap forever</td>\n",
       "      <td>0.000442</td>\n",
       "    </tr>\n",
       "    <tr>\n",
       "      <th>2638</th>\n",
       "      <td>6.735922</td>\n",
       "      <td>tell story justin bieber kid canada hair smile voice chronicle unprecedented rise fame way busk street stratford canada put videos youtube sell madison square garden new york headline act world tour 2010 feature usher scooter braun ludacris sean kingston antonio la reid boyz ii men miley cyrus jaden smith justins family member part crew huge fanbase mix interview guest performance release 3d theater around world highest gross concert movie time beat previous record hold michael jackson 2009</td>\n",
       "      <td>0.000442</td>\n",
       "    </tr>\n",
       "    <tr>\n",
       "      <th>4025</th>\n",
       "      <td>0.430758</td>\n",
       "      <td>peter coyote et erin brokovich karen allen perfect storm star touch family drama unify power basketball community torn apart war rivet sport film tale triumph adversity basket hoop dream movie whole lot heart dallas morning news 1918 wheatfarming townspeople waterville washington welcome home first wound son wwi theyrestruck harsh reality war bigotry hatred toward two german orphan dividethe closeknit community new schoolteacher martin coyote roll town strange idea even stranger leather ball brandnew game call basketball martin strivesto bring harmony townbefore tear apart</td>\n",
       "      <td>0.000441</td>\n",
       "    </tr>\n",
       "    <tr>\n",
       "      <th>2275</th>\n",
       "      <td>19.234672</td>\n",
       "      <td>soul surfer inspire true story teen surfer bethany hamilton bethany lose left arm shark attack courageously overcame odds become champion sheer determination unwavering faithbethany annasophia robb bear surf natural talent take wave young age lead idyllic life kauai participate national surf competition best friend alana lorraine nicholson everything change halloween morning 14foot tiger shark come nowhere seem shatter dreamssoul surfer reveals bethanys fight recover ordeal grapple question future strengthen love parent tom dennis quaid cheri helen hunt support youth group leader sara carrie underwood bethany refuse give give begin bold return water</td>\n",
       "      <td>0.000439</td>\n",
       "    </tr>\n",
       "    <tr>\n",
       "      <th>2983</th>\n",
       "      <td>5.755550</td>\n",
       "      <td>2009 iranian canadian journalist maziar bahari cover iran volatile election newsweek one reporter live country access us medium make appearance daily show jon stewart tap interview comedian jason jones interview intend satire tehran authority get joke like would quickly come back haunt bahari rousted family home thrown prison make directorial debut jon stewart tell tale baharis monthslong imprisonment interrogation powerful affect docudrama feature potent performance gael garcía bernal recount baharis effort maintain hope sanity face isolation persecutionthrough memory family recollection music love thought wife unborn child</td>\n",
       "      <td>0.000438</td>\n",
       "    </tr>\n",
       "  </tbody>\n",
       "</table>\n",
       "</div>"
      ],
      "text/plain": [
       "      Popularity  \\\n",
       "4292    0.052942   \n",
       "3381    1.688495   \n",
       "3920    0.209475   \n",
       "3485    0.999655   \n",
       "3924    1.619635   \n",
       "1596   20.063165   \n",
       "2638    6.735922   \n",
       "4025    0.430758   \n",
       "2275   19.234672   \n",
       "2983    5.755550   \n",
       "\n",
       "                                                                                                                                                                                                                                                                                                                                                                                                                                                                                                                                                                                                                                                                                                                                         Overview  \\\n",
       "4292  world change faster ever technology accelerate job security decline income inequality increase people overwork underpaid less time freedom people leave wonder better way change economy lead rise entrepreneur fastest dependable controllable way become wealthy business documentary gather todays best expert think leader forever change view work wealth feature expert jordan adler john assaraf kody bateman chris brogan richard bliss brooke ali brown le brown jack canfield harry dent jr dr linda ferrell dr oc ferrell mark victor hansen kevin harrington kim kiyosaki robert kiyosaki joseph mariano dr ivan misner paul zane pilzer bob proctor susan sly loren slocum kevin thompson brian tracy eric worre sandra yancey   \n",
       "3381                                                                                                        canadian make comedydrama set hamilton ontario 1954 sweet time goofy story become increasingly poignant minute tick fictional tale wayward 9th grader ralph adam butcher secretly live widow hospitalized mother remain immersed coma frequently trouble father fitzpatrick gordon pinsent principal allboys catholic school ralph consider something joke among peer decides pull miracle could save mother ie win boston marathon coach younger priest former runner father hibbert campbell scott whose cynicism lift boys pure hope ralph applies unlikely mission fend naysayer get help along challenge path sundry ally friend   \n",
       "3920                                                                                                                                                           truly mad concoction blend 1950s juvenile delinquent scifi melodrama songanddance touch horror everything right combination create engage big screen spectacle curious curiously entertain story involve one jonathan xavier devote misfit gang incidentally exile earth far reach outer space johnny former girlfriend bliss leave steal resurrection suit cosmic mindbending uniform give owner power others along way several highly stylized musical number lot genuinely humorous dialogue wacky plottwist two beautifully capture last kodaks blackandwhite plusx film stock   \n",
       "3485                          henry amp tell courageous story jack austin williams brave young boy dealt life change blow low confidence fill selfdoubt hope seem lose mysterious stranger name henry richard gere appear touch pin henry sweep jack away magical world illness longer exist new york yankee legends play forever incredible journey bring jack face face babe ruth chazz palminteri thurman munson paul simon lefty gomez luis guzman mickey mantle david mantle teach jack face fear never give movie climax yankee stadium jack must test newfound courage save season find way home feature starcast unforgettable character henry amp heartwarming movie experience entire family message hope… life throw curve… swing away   \n",
       "3924                        slacker uprise movie michael moor tour college swing state 2004 election goal encourage 18–29 year old vote response receive film reedited version captain mike across america play toronto international film festival 2007 one first feature length film make know director release free legal download online free download available reside united state canada film also make available free online view download lycos cinema platform well itunes bliptv onenightonly run michigan theater michael moore speak briefly film available dvd format slacker uprising feature live performance appearance eddie vedder roseanne barr joan baez tom morello rem steve earle viggo mortensen original score antiflag   \n",
       "1596                                                                                                 3d actionthriller sanctum executive producer jam cameron follow team underwater cave diver treacherous expedition largest beautiful least accessible cave system earth tropical storm force deep cavern must fight rag water deadly terrain creep panic search unknown escape route sea master diver frank mcguire richard roxburgh explore south pacific esaala cave month exit cut flash flood frank teamincluding 17yearold son josh rhys wakefield financier carl hurley ioan gruffuddare force radically alter plan dwindle supply crew must navigate underwater labyrinth make soon confront unavoidable question survive trap forever   \n",
       "2638                                                                                                                                                                                                                              tell story justin bieber kid canada hair smile voice chronicle unprecedented rise fame way busk street stratford canada put videos youtube sell madison square garden new york headline act world tour 2010 feature usher scooter braun ludacris sean kingston antonio la reid boyz ii men miley cyrus jaden smith justins family member part crew huge fanbase mix interview guest performance release 3d theater around world highest gross concert movie time beat previous record hold michael jackson 2009   \n",
       "4025                                                                                                                                          peter coyote et erin brokovich karen allen perfect storm star touch family drama unify power basketball community torn apart war rivet sport film tale triumph adversity basket hoop dream movie whole lot heart dallas morning news 1918 wheatfarming townspeople waterville washington welcome home first wound son wwi theyrestruck harsh reality war bigotry hatred toward two german orphan dividethe closeknit community new schoolteacher martin coyote roll town strange idea even stranger leather ball brandnew game call basketball martin strivesto bring harmony townbefore tear apart   \n",
       "2275                                                            soul surfer inspire true story teen surfer bethany hamilton bethany lose left arm shark attack courageously overcame odds become champion sheer determination unwavering faithbethany annasophia robb bear surf natural talent take wave young age lead idyllic life kauai participate national surf competition best friend alana lorraine nicholson everything change halloween morning 14foot tiger shark come nowhere seem shatter dreamssoul surfer reveals bethanys fight recover ordeal grapple question future strengthen love parent tom dennis quaid cheri helen hunt support youth group leader sara carrie underwood bethany refuse give give begin bold return water   \n",
       "2983                                                                                     2009 iranian canadian journalist maziar bahari cover iran volatile election newsweek one reporter live country access us medium make appearance daily show jon stewart tap interview comedian jason jones interview intend satire tehran authority get joke like would quickly come back haunt bahari rousted family home thrown prison make directorial debut jon stewart tell tale baharis monthslong imprisonment interrogation powerful affect docudrama feature potent performance gael garcía bernal recount baharis effort maintain hope sanity face isolation persecutionthrough memory family recollection music love thought wife unborn child   \n",
       "\n",
       "      TF-IDF Total  \n",
       "4292      0.000489  \n",
       "3381      0.000453  \n",
       "3920      0.000445  \n",
       "3485      0.000443  \n",
       "3924      0.000442  \n",
       "1596      0.000442  \n",
       "2638      0.000442  \n",
       "4025      0.000441  \n",
       "2275      0.000439  \n",
       "2983      0.000438  "
      ]
     },
     "execution_count": 38,
     "metadata": {},
     "output_type": "execute_result"
    }
   ],
   "source": [
    "df.sort_values(by='TF-IDF Total', ascending=False).head(10)"
   ]
  },
  {
   "cell_type": "markdown",
   "id": "30bfdf36",
   "metadata": {},
   "source": [
    "### TF-IDF combined score medium examples"
   ]
  },
  {
   "cell_type": "code",
   "execution_count": 39,
   "id": "b9368c84",
   "metadata": {},
   "outputs": [
    {
     "data": {
      "text/html": [
       "<div>\n",
       "<style scoped>\n",
       "    .dataframe tbody tr th:only-of-type {\n",
       "        vertical-align: middle;\n",
       "    }\n",
       "\n",
       "    .dataframe tbody tr th {\n",
       "        vertical-align: top;\n",
       "    }\n",
       "\n",
       "    .dataframe thead th {\n",
       "        text-align: right;\n",
       "    }\n",
       "</style>\n",
       "<table border=\"1\" class=\"dataframe\">\n",
       "  <thead>\n",
       "    <tr style=\"text-align: right;\">\n",
       "      <th></th>\n",
       "      <th>Popularity</th>\n",
       "      <th>Overview</th>\n",
       "      <th>TF-IDF Total</th>\n",
       "    </tr>\n",
       "  </thead>\n",
       "  <tbody>\n",
       "    <tr>\n",
       "      <th>4491</th>\n",
       "      <td>4.553644</td>\n",
       "      <td>notorious baltimore criminal underground figure divine go connie amp raymond marble sleazy marry couple make passionate attempt humiliate seize tabloidgiven title filthiest person alive</td>\n",
       "      <td>0.000252</td>\n",
       "    </tr>\n",
       "    <tr>\n",
       "      <th>3783</th>\n",
       "      <td>22.793929</td>\n",
       "      <td>town everyone seem name johnson way railroad order grab land hedley lemar politically connect nasty person send henchman make town unlivable sheriff kill town demand new sheriff governor hedley convinces send town first black sheriff west</td>\n",
       "      <td>0.000252</td>\n",
       "    </tr>\n",
       "    <tr>\n",
       "      <th>1100</th>\n",
       "      <td>5.418921</td>\n",
       "      <td>get car accident drunk day sister wed gwen cummings give choice prison rehab center choose rehab extremely resistant take part treatment program offer refuse admit alcohol addiction</td>\n",
       "      <td>0.000252</td>\n",
       "    </tr>\n",
       "    <tr>\n",
       "      <th>4102</th>\n",
       "      <td>15.699363</td>\n",
       "      <td>estrange twin maggie milo coincidentally cheat death day prompt reunite confront reason live go wrong twin reunion reinvigorate realize key fix life may lie repair relationship</td>\n",
       "      <td>0.000252</td>\n",
       "    </tr>\n",
       "    <tr>\n",
       "      <th>2370</th>\n",
       "      <td>36.960953</td>\n",
       "      <td>eye lovely aristocrat gifted illusionist name eisenheim use power win away betroth crown prince eisenheims scheme create tumult within monarchy ignites suspicion dog inspector</td>\n",
       "      <td>0.000252</td>\n",
       "    </tr>\n",
       "  </tbody>\n",
       "</table>\n",
       "</div>"
      ],
      "text/plain": [
       "      Popularity  \\\n",
       "4491    4.553644   \n",
       "3783   22.793929   \n",
       "1100    5.418921   \n",
       "4102   15.699363   \n",
       "2370   36.960953   \n",
       "\n",
       "                                                                                                                                                                                                                                            Overview  \\\n",
       "4491                                                       notorious baltimore criminal underground figure divine go connie amp raymond marble sleazy marry couple make passionate attempt humiliate seize tabloidgiven title filthiest person alive   \n",
       "3783  town everyone seem name johnson way railroad order grab land hedley lemar politically connect nasty person send henchman make town unlivable sheriff kill town demand new sheriff governor hedley convinces send town first black sheriff west   \n",
       "1100                                                           get car accident drunk day sister wed gwen cummings give choice prison rehab center choose rehab extremely resistant take part treatment program offer refuse admit alcohol addiction   \n",
       "4102                                                                estrange twin maggie milo coincidentally cheat death day prompt reunite confront reason live go wrong twin reunion reinvigorate realize key fix life may lie repair relationship   \n",
       "2370                                                                 eye lovely aristocrat gifted illusionist name eisenheim use power win away betroth crown prince eisenheims scheme create tumult within monarchy ignites suspicion dog inspector   \n",
       "\n",
       "      TF-IDF Total  \n",
       "4491      0.000252  \n",
       "3783      0.000252  \n",
       "1100      0.000252  \n",
       "4102      0.000252  \n",
       "2370      0.000252  "
      ]
     },
     "execution_count": 39,
     "metadata": {},
     "output_type": "execute_result"
    }
   ],
   "source": [
    "df.sort_values(by='TF-IDF Total', ascending=False)[2250:2255]"
   ]
  },
  {
   "cell_type": "code",
   "execution_count": null,
   "id": "00144ba6",
   "metadata": {},
   "outputs": [],
   "source": []
  }
 ],
 "metadata": {
  "kernelspec": {
   "display_name": "Python 3 (ipykernel)",
   "language": "python",
   "name": "python3"
  },
  "language_info": {
   "codemirror_mode": {
    "name": "ipython",
    "version": 3
   },
   "file_extension": ".py",
   "mimetype": "text/x-python",
   "name": "python",
   "nbconvert_exporter": "python",
   "pygments_lexer": "ipython3",
   "version": "3.8.12"
  }
 },
 "nbformat": 4,
 "nbformat_minor": 5
}
