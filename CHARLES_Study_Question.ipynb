{
 "cells": [
  {
   "cell_type": "code",
   "execution_count": 1,
   "id": "3f53aebc",
   "metadata": {},
   "outputs": [
    {
     "name": "stderr",
     "output_type": "stream",
     "text": [
      "[nltk_data] Downloading package wordnet to\n",
      "[nltk_data]     /Users/charlesreinertson/nltk_data...\n",
      "[nltk_data]   Package wordnet is already up-to-date!\n",
      "[nltk_data] Downloading package omw-1.4 to\n",
      "[nltk_data]     /Users/charlesreinertson/nltk_data...\n",
      "[nltk_data]   Package omw-1.4 is already up-to-date!\n"
     ]
    }
   ],
   "source": [
    "import numpy as np\n",
    "import pandas as pd\n",
    "import json \n",
    "import seaborn as sns\n",
    "import string\n",
    "import nltk\n",
    "nltk.download('wordnet')\n",
    "nltk.download('omw-1.4')\n",
    "from matplotlib import pyplot as plt\n",
    "from matplotlib.pyplot import figure\n",
    "from nltk.corpus import stopwords\n",
    "from nltk.stem import WordNetLemmatizer\n",
    "from nltk import pos_tag, word_tokenize\n",
    "from sklearn.feature_extraction.text import CountVectorizer\n",
    "from sklearn.feature_extraction.text import TfidfTransformer\n",
    "from pingouin import multivariate_normality\n",
    "pd.set_option('display.max_columns', None)"
   ]
  },
  {
   "cell_type": "markdown",
   "id": "1307ae29",
   "metadata": {},
   "source": [
    "# Read in data"
   ]
  },
  {
   "cell_type": "code",
   "execution_count": 2,
   "id": "256a215f",
   "metadata": {},
   "outputs": [
    {
     "name": "stderr",
     "output_type": "stream",
     "text": [
      "/Users/charlesreinertson/Desktop/School/grad/DATA515/env/lib/python3.8/site-packages/outdated/utils.py:14: OutdatedPackageWarning: The package pingouin is out of date. Your version is 0.5.0, the latest is 0.5.1.\n",
      "Set the environment variable OUTDATED_IGNORE=1 to disable these warnings.\n",
      "  return warn(\n"
     ]
    },
    {
     "data": {
      "text/html": [
       "<div>\n",
       "<style scoped>\n",
       "    .dataframe tbody tr th:only-of-type {\n",
       "        vertical-align: middle;\n",
       "    }\n",
       "\n",
       "    .dataframe tbody tr th {\n",
       "        vertical-align: top;\n",
       "    }\n",
       "\n",
       "    .dataframe thead th {\n",
       "        text-align: right;\n",
       "    }\n",
       "</style>\n",
       "<table border=\"1\" class=\"dataframe\">\n",
       "  <thead>\n",
       "    <tr style=\"text-align: right;\">\n",
       "      <th></th>\n",
       "      <th>title</th>\n",
       "      <th>cast</th>\n",
       "      <th>crew</th>\n",
       "      <th>budget</th>\n",
       "      <th>genres</th>\n",
       "      <th>id</th>\n",
       "      <th>keywords</th>\n",
       "      <th>original_language</th>\n",
       "      <th>original_title</th>\n",
       "      <th>overview</th>\n",
       "      <th>popularity</th>\n",
       "      <th>production_companies</th>\n",
       "      <th>production_countries</th>\n",
       "      <th>release_date</th>\n",
       "      <th>revenue</th>\n",
       "      <th>runtime</th>\n",
       "      <th>spoken_languages</th>\n",
       "      <th>status</th>\n",
       "      <th>tagline</th>\n",
       "      <th>vote_average</th>\n",
       "      <th>vote_count</th>\n",
       "    </tr>\n",
       "  </thead>\n",
       "  <tbody>\n",
       "    <tr>\n",
       "      <th>0</th>\n",
       "      <td>Avatar</td>\n",
       "      <td>[{\"cast_id\": 242, \"character\": \"Jake Sully\", \"...</td>\n",
       "      <td>[{\"credit_id\": \"52fe48009251416c750aca23\", \"de...</td>\n",
       "      <td>237000000</td>\n",
       "      <td>[{\"id\": 28, \"name\": \"Action\"}, {\"id\": 12, \"nam...</td>\n",
       "      <td>19995</td>\n",
       "      <td>[{\"id\": 1463, \"name\": \"culture clash\"}, {\"id\":...</td>\n",
       "      <td>en</td>\n",
       "      <td>Avatar</td>\n",
       "      <td>In the 22nd century, a paraplegic Marine is di...</td>\n",
       "      <td>150.437577</td>\n",
       "      <td>[{\"name\": \"Ingenious Film Partners\", \"id\": 289...</td>\n",
       "      <td>[{\"iso_3166_1\": \"US\", \"name\": \"United States o...</td>\n",
       "      <td>2009-12-10</td>\n",
       "      <td>2787965087</td>\n",
       "      <td>162.0</td>\n",
       "      <td>[{\"iso_639_1\": \"en\", \"name\": \"English\"}, {\"iso...</td>\n",
       "      <td>Released</td>\n",
       "      <td>Enter the World of Pandora.</td>\n",
       "      <td>7.2</td>\n",
       "      <td>11800</td>\n",
       "    </tr>\n",
       "    <tr>\n",
       "      <th>1</th>\n",
       "      <td>Pirates of the Caribbean: At World's End</td>\n",
       "      <td>[{\"cast_id\": 4, \"character\": \"Captain Jack Spa...</td>\n",
       "      <td>[{\"credit_id\": \"52fe4232c3a36847f800b579\", \"de...</td>\n",
       "      <td>300000000</td>\n",
       "      <td>[{\"id\": 12, \"name\": \"Adventure\"}, {\"id\": 14, \"...</td>\n",
       "      <td>285</td>\n",
       "      <td>[{\"id\": 270, \"name\": \"ocean\"}, {\"id\": 726, \"na...</td>\n",
       "      <td>en</td>\n",
       "      <td>Pirates of the Caribbean: At World's End</td>\n",
       "      <td>Captain Barbossa, long believed to be dead, ha...</td>\n",
       "      <td>139.082615</td>\n",
       "      <td>[{\"name\": \"Walt Disney Pictures\", \"id\": 2}, {\"...</td>\n",
       "      <td>[{\"iso_3166_1\": \"US\", \"name\": \"United States o...</td>\n",
       "      <td>2007-05-19</td>\n",
       "      <td>961000000</td>\n",
       "      <td>169.0</td>\n",
       "      <td>[{\"iso_639_1\": \"en\", \"name\": \"English\"}]</td>\n",
       "      <td>Released</td>\n",
       "      <td>At the end of the world, the adventure begins.</td>\n",
       "      <td>6.9</td>\n",
       "      <td>4500</td>\n",
       "    </tr>\n",
       "    <tr>\n",
       "      <th>2</th>\n",
       "      <td>Spectre</td>\n",
       "      <td>[{\"cast_id\": 1, \"character\": \"James Bond\", \"cr...</td>\n",
       "      <td>[{\"credit_id\": \"54805967c3a36829b5002c41\", \"de...</td>\n",
       "      <td>245000000</td>\n",
       "      <td>[{\"id\": 28, \"name\": \"Action\"}, {\"id\": 12, \"nam...</td>\n",
       "      <td>206647</td>\n",
       "      <td>[{\"id\": 470, \"name\": \"spy\"}, {\"id\": 818, \"name...</td>\n",
       "      <td>en</td>\n",
       "      <td>Spectre</td>\n",
       "      <td>A cryptic message from Bond’s past sends him o...</td>\n",
       "      <td>107.376788</td>\n",
       "      <td>[{\"name\": \"Columbia Pictures\", \"id\": 5}, {\"nam...</td>\n",
       "      <td>[{\"iso_3166_1\": \"GB\", \"name\": \"United Kingdom\"...</td>\n",
       "      <td>2015-10-26</td>\n",
       "      <td>880674609</td>\n",
       "      <td>148.0</td>\n",
       "      <td>[{\"iso_639_1\": \"fr\", \"name\": \"Fran\\u00e7ais\"},...</td>\n",
       "      <td>Released</td>\n",
       "      <td>A Plan No One Escapes</td>\n",
       "      <td>6.3</td>\n",
       "      <td>4466</td>\n",
       "    </tr>\n",
       "    <tr>\n",
       "      <th>3</th>\n",
       "      <td>The Dark Knight Rises</td>\n",
       "      <td>[{\"cast_id\": 2, \"character\": \"Bruce Wayne / Ba...</td>\n",
       "      <td>[{\"credit_id\": \"52fe4781c3a36847f81398c3\", \"de...</td>\n",
       "      <td>250000000</td>\n",
       "      <td>[{\"id\": 28, \"name\": \"Action\"}, {\"id\": 80, \"nam...</td>\n",
       "      <td>49026</td>\n",
       "      <td>[{\"id\": 849, \"name\": \"dc comics\"}, {\"id\": 853,...</td>\n",
       "      <td>en</td>\n",
       "      <td>The Dark Knight Rises</td>\n",
       "      <td>Following the death of District Attorney Harve...</td>\n",
       "      <td>112.312950</td>\n",
       "      <td>[{\"name\": \"Legendary Pictures\", \"id\": 923}, {\"...</td>\n",
       "      <td>[{\"iso_3166_1\": \"US\", \"name\": \"United States o...</td>\n",
       "      <td>2012-07-16</td>\n",
       "      <td>1084939099</td>\n",
       "      <td>165.0</td>\n",
       "      <td>[{\"iso_639_1\": \"en\", \"name\": \"English\"}]</td>\n",
       "      <td>Released</td>\n",
       "      <td>The Legend Ends</td>\n",
       "      <td>7.6</td>\n",
       "      <td>9106</td>\n",
       "    </tr>\n",
       "    <tr>\n",
       "      <th>4</th>\n",
       "      <td>John Carter</td>\n",
       "      <td>[{\"cast_id\": 5, \"character\": \"John Carter\", \"c...</td>\n",
       "      <td>[{\"credit_id\": \"52fe479ac3a36847f813eaa3\", \"de...</td>\n",
       "      <td>260000000</td>\n",
       "      <td>[{\"id\": 28, \"name\": \"Action\"}, {\"id\": 12, \"nam...</td>\n",
       "      <td>49529</td>\n",
       "      <td>[{\"id\": 818, \"name\": \"based on novel\"}, {\"id\":...</td>\n",
       "      <td>en</td>\n",
       "      <td>John Carter</td>\n",
       "      <td>John Carter is a war-weary, former military ca...</td>\n",
       "      <td>43.926995</td>\n",
       "      <td>[{\"name\": \"Walt Disney Pictures\", \"id\": 2}]</td>\n",
       "      <td>[{\"iso_3166_1\": \"US\", \"name\": \"United States o...</td>\n",
       "      <td>2012-03-07</td>\n",
       "      <td>284139100</td>\n",
       "      <td>132.0</td>\n",
       "      <td>[{\"iso_639_1\": \"en\", \"name\": \"English\"}]</td>\n",
       "      <td>Released</td>\n",
       "      <td>Lost in our world, found in another.</td>\n",
       "      <td>6.1</td>\n",
       "      <td>2124</td>\n",
       "    </tr>\n",
       "  </tbody>\n",
       "</table>\n",
       "</div>"
      ],
      "text/plain": [
       "                                      title  \\\n",
       "0                                    Avatar   \n",
       "1  Pirates of the Caribbean: At World's End   \n",
       "2                                   Spectre   \n",
       "3                     The Dark Knight Rises   \n",
       "4                               John Carter   \n",
       "\n",
       "                                                cast  \\\n",
       "0  [{\"cast_id\": 242, \"character\": \"Jake Sully\", \"...   \n",
       "1  [{\"cast_id\": 4, \"character\": \"Captain Jack Spa...   \n",
       "2  [{\"cast_id\": 1, \"character\": \"James Bond\", \"cr...   \n",
       "3  [{\"cast_id\": 2, \"character\": \"Bruce Wayne / Ba...   \n",
       "4  [{\"cast_id\": 5, \"character\": \"John Carter\", \"c...   \n",
       "\n",
       "                                                crew     budget  \\\n",
       "0  [{\"credit_id\": \"52fe48009251416c750aca23\", \"de...  237000000   \n",
       "1  [{\"credit_id\": \"52fe4232c3a36847f800b579\", \"de...  300000000   \n",
       "2  [{\"credit_id\": \"54805967c3a36829b5002c41\", \"de...  245000000   \n",
       "3  [{\"credit_id\": \"52fe4781c3a36847f81398c3\", \"de...  250000000   \n",
       "4  [{\"credit_id\": \"52fe479ac3a36847f813eaa3\", \"de...  260000000   \n",
       "\n",
       "                                              genres      id  \\\n",
       "0  [{\"id\": 28, \"name\": \"Action\"}, {\"id\": 12, \"nam...   19995   \n",
       "1  [{\"id\": 12, \"name\": \"Adventure\"}, {\"id\": 14, \"...     285   \n",
       "2  [{\"id\": 28, \"name\": \"Action\"}, {\"id\": 12, \"nam...  206647   \n",
       "3  [{\"id\": 28, \"name\": \"Action\"}, {\"id\": 80, \"nam...   49026   \n",
       "4  [{\"id\": 28, \"name\": \"Action\"}, {\"id\": 12, \"nam...   49529   \n",
       "\n",
       "                                            keywords original_language  \\\n",
       "0  [{\"id\": 1463, \"name\": \"culture clash\"}, {\"id\":...                en   \n",
       "1  [{\"id\": 270, \"name\": \"ocean\"}, {\"id\": 726, \"na...                en   \n",
       "2  [{\"id\": 470, \"name\": \"spy\"}, {\"id\": 818, \"name...                en   \n",
       "3  [{\"id\": 849, \"name\": \"dc comics\"}, {\"id\": 853,...                en   \n",
       "4  [{\"id\": 818, \"name\": \"based on novel\"}, {\"id\":...                en   \n",
       "\n",
       "                             original_title  \\\n",
       "0                                    Avatar   \n",
       "1  Pirates of the Caribbean: At World's End   \n",
       "2                                   Spectre   \n",
       "3                     The Dark Knight Rises   \n",
       "4                               John Carter   \n",
       "\n",
       "                                            overview  popularity  \\\n",
       "0  In the 22nd century, a paraplegic Marine is di...  150.437577   \n",
       "1  Captain Barbossa, long believed to be dead, ha...  139.082615   \n",
       "2  A cryptic message from Bond’s past sends him o...  107.376788   \n",
       "3  Following the death of District Attorney Harve...  112.312950   \n",
       "4  John Carter is a war-weary, former military ca...   43.926995   \n",
       "\n",
       "                                production_companies  \\\n",
       "0  [{\"name\": \"Ingenious Film Partners\", \"id\": 289...   \n",
       "1  [{\"name\": \"Walt Disney Pictures\", \"id\": 2}, {\"...   \n",
       "2  [{\"name\": \"Columbia Pictures\", \"id\": 5}, {\"nam...   \n",
       "3  [{\"name\": \"Legendary Pictures\", \"id\": 923}, {\"...   \n",
       "4        [{\"name\": \"Walt Disney Pictures\", \"id\": 2}]   \n",
       "\n",
       "                                production_countries release_date     revenue  \\\n",
       "0  [{\"iso_3166_1\": \"US\", \"name\": \"United States o...   2009-12-10  2787965087   \n",
       "1  [{\"iso_3166_1\": \"US\", \"name\": \"United States o...   2007-05-19   961000000   \n",
       "2  [{\"iso_3166_1\": \"GB\", \"name\": \"United Kingdom\"...   2015-10-26   880674609   \n",
       "3  [{\"iso_3166_1\": \"US\", \"name\": \"United States o...   2012-07-16  1084939099   \n",
       "4  [{\"iso_3166_1\": \"US\", \"name\": \"United States o...   2012-03-07   284139100   \n",
       "\n",
       "   runtime                                   spoken_languages    status  \\\n",
       "0    162.0  [{\"iso_639_1\": \"en\", \"name\": \"English\"}, {\"iso...  Released   \n",
       "1    169.0           [{\"iso_639_1\": \"en\", \"name\": \"English\"}]  Released   \n",
       "2    148.0  [{\"iso_639_1\": \"fr\", \"name\": \"Fran\\u00e7ais\"},...  Released   \n",
       "3    165.0           [{\"iso_639_1\": \"en\", \"name\": \"English\"}]  Released   \n",
       "4    132.0           [{\"iso_639_1\": \"en\", \"name\": \"English\"}]  Released   \n",
       "\n",
       "                                          tagline  vote_average  vote_count  \n",
       "0                     Enter the World of Pandora.           7.2       11800  \n",
       "1  At the end of the world, the adventure begins.           6.9        4500  \n",
       "2                           A Plan No One Escapes           6.3        4466  \n",
       "3                                 The Legend Ends           7.6        9106  \n",
       "4            Lost in our world, found in another.           6.1        2124  "
      ]
     },
     "execution_count": 2,
     "metadata": {},
     "output_type": "execute_result"
    }
   ],
   "source": [
    "df = pd.read_csv('data/pre-processed.csv', index_col=None) \n",
    "df.head()"
   ]
  },
  {
   "cell_type": "markdown",
   "id": "2ddb6d69",
   "metadata": {},
   "source": [
    "# Only perform analysis on english movies"
   ]
  },
  {
   "cell_type": "code",
   "execution_count": 3,
   "id": "ae2623d4",
   "metadata": {},
   "outputs": [],
   "source": [
    "df = df[df['original_language'] == 'en']"
   ]
  },
  {
   "cell_type": "markdown",
   "id": "e0963119",
   "metadata": {},
   "source": [
    "# General EDA"
   ]
  },
  {
   "cell_type": "code",
   "execution_count": 4,
   "id": "80b969b5",
   "metadata": {},
   "outputs": [
    {
     "name": "stdout",
     "output_type": "stream",
     "text": [
      "<class 'pandas.core.frame.DataFrame'>\n",
      "Int64Index: 4503 entries, 0 to 4798\n",
      "Data columns (total 21 columns):\n",
      " #   Column                Non-Null Count  Dtype  \n",
      "---  ------                --------------  -----  \n",
      " 0   title                 4503 non-null   object \n",
      " 1   cast                  4503 non-null   object \n",
      " 2   crew                  4503 non-null   object \n",
      " 3   budget                4503 non-null   int64  \n",
      " 4   genres                4503 non-null   object \n",
      " 5   id                    4503 non-null   int64  \n",
      " 6   keywords              4503 non-null   object \n",
      " 7   original_language     4503 non-null   object \n",
      " 8   original_title        4503 non-null   object \n",
      " 9   overview              4503 non-null   object \n",
      " 10  popularity            4503 non-null   float64\n",
      " 11  production_companies  4503 non-null   object \n",
      " 12  production_countries  4503 non-null   object \n",
      " 13  release_date          4503 non-null   object \n",
      " 14  revenue               4503 non-null   int64  \n",
      " 15  runtime               4503 non-null   float64\n",
      " 16  spoken_languages      4503 non-null   object \n",
      " 17  status                4503 non-null   object \n",
      " 18  tagline               3789 non-null   object \n",
      " 19  vote_average          4503 non-null   float64\n",
      " 20  vote_count            4503 non-null   int64  \n",
      "dtypes: float64(3), int64(4), object(14)\n",
      "memory usage: 774.0+ KB\n"
     ]
    }
   ],
   "source": [
    "# get index, columns, non_null count, data type, memory usage\n",
    "df.info()"
   ]
  },
  {
   "cell_type": "code",
   "execution_count": 5,
   "id": "4fbb170f",
   "metadata": {},
   "outputs": [],
   "source": [
    "# change columns to correct data type\n",
    "# change type of column\n",
    "df[\"title\"] = df[\"title\"].astype(\"string\")\n",
    "df[\"original_language\"] = df[\"original_language\"].astype(\"string\")\n",
    "df[\"original_title\"] = df[\"original_title\"].astype(\"string\")\n",
    "df[\"overview\"] = df[\"overview\"].astype(\"string\")\n",
    "df[\"release_date\"] = pd.to_datetime(df[\"release_date\"])\n",
    "df[\"status\"] = df[\"status\"].astype(\"string\")\n",
    "df[\"tagline\"] = df[\"tagline\"].astype(\"string\")"
   ]
  },
  {
   "cell_type": "code",
   "execution_count": 6,
   "id": "4df7356a",
   "metadata": {},
   "outputs": [
    {
     "name": "stdout",
     "output_type": "stream",
     "text": [
      "<class 'pandas.core.frame.DataFrame'>\n",
      "Int64Index: 4503 entries, 0 to 4798\n",
      "Data columns (total 21 columns):\n",
      " #   Column                Non-Null Count  Dtype         \n",
      "---  ------                --------------  -----         \n",
      " 0   title                 4503 non-null   string        \n",
      " 1   cast                  4503 non-null   object        \n",
      " 2   crew                  4503 non-null   object        \n",
      " 3   budget                4503 non-null   int64         \n",
      " 4   genres                4503 non-null   object        \n",
      " 5   id                    4503 non-null   int64         \n",
      " 6   keywords              4503 non-null   object        \n",
      " 7   original_language     4503 non-null   string        \n",
      " 8   original_title        4503 non-null   string        \n",
      " 9   overview              4503 non-null   string        \n",
      " 10  popularity            4503 non-null   float64       \n",
      " 11  production_companies  4503 non-null   object        \n",
      " 12  production_countries  4503 non-null   object        \n",
      " 13  release_date          4503 non-null   datetime64[ns]\n",
      " 14  revenue               4503 non-null   int64         \n",
      " 15  runtime               4503 non-null   float64       \n",
      " 16  spoken_languages      4503 non-null   object        \n",
      " 17  status                4503 non-null   string        \n",
      " 18  tagline               3789 non-null   string        \n",
      " 19  vote_average          4503 non-null   float64       \n",
      " 20  vote_count            4503 non-null   int64         \n",
      "dtypes: datetime64[ns](1), float64(3), int64(4), object(7), string(6)\n",
      "memory usage: 774.0+ KB\n"
     ]
    }
   ],
   "source": [
    "df.info()"
   ]
  },
  {
   "cell_type": "code",
   "execution_count": 7,
   "id": "91eac503",
   "metadata": {},
   "outputs": [
    {
     "data": {
      "text/html": [
       "<div>\n",
       "<style scoped>\n",
       "    .dataframe tbody tr th:only-of-type {\n",
       "        vertical-align: middle;\n",
       "    }\n",
       "\n",
       "    .dataframe tbody tr th {\n",
       "        vertical-align: top;\n",
       "    }\n",
       "\n",
       "    .dataframe thead th {\n",
       "        text-align: right;\n",
       "    }\n",
       "</style>\n",
       "<table border=\"1\" class=\"dataframe\">\n",
       "  <thead>\n",
       "    <tr style=\"text-align: right;\">\n",
       "      <th></th>\n",
       "      <th>budget</th>\n",
       "      <th>id</th>\n",
       "      <th>popularity</th>\n",
       "      <th>revenue</th>\n",
       "      <th>runtime</th>\n",
       "      <th>vote_average</th>\n",
       "      <th>vote_count</th>\n",
       "    </tr>\n",
       "  </thead>\n",
       "  <tbody>\n",
       "    <tr>\n",
       "      <th>count</th>\n",
       "      <td>4.503000e+03</td>\n",
       "      <td>4503.000000</td>\n",
       "      <td>4503.000000</td>\n",
       "      <td>4.503000e+03</td>\n",
       "      <td>4503.000000</td>\n",
       "      <td>4503.000000</td>\n",
       "      <td>4503.000000</td>\n",
       "    </tr>\n",
       "    <tr>\n",
       "      <th>mean</th>\n",
       "      <td>3.040786e+07</td>\n",
       "      <td>55627.086387</td>\n",
       "      <td>22.187274</td>\n",
       "      <td>8.651726e+07</td>\n",
       "      <td>106.495225</td>\n",
       "      <td>6.068377</td>\n",
       "      <td>719.343105</td>\n",
       "    </tr>\n",
       "    <tr>\n",
       "      <th>std</th>\n",
       "      <td>4.151041e+07</td>\n",
       "      <td>86808.746123</td>\n",
       "      <td>32.516649</td>\n",
       "      <td>1.669837e+08</td>\n",
       "      <td>22.341001</td>\n",
       "      <td>1.178534</td>\n",
       "      <td>1263.547850</td>\n",
       "    </tr>\n",
       "    <tr>\n",
       "      <th>min</th>\n",
       "      <td>0.000000e+00</td>\n",
       "      <td>5.000000</td>\n",
       "      <td>0.000372</td>\n",
       "      <td>0.000000e+00</td>\n",
       "      <td>0.000000</td>\n",
       "      <td>0.000000</td>\n",
       "      <td>0.000000</td>\n",
       "    </tr>\n",
       "    <tr>\n",
       "      <th>25%</th>\n",
       "      <td>1.000000e+06</td>\n",
       "      <td>9021.500000</td>\n",
       "      <td>5.010111</td>\n",
       "      <td>0.000000e+00</td>\n",
       "      <td>93.000000</td>\n",
       "      <td>5.600000</td>\n",
       "      <td>58.500000</td>\n",
       "    </tr>\n",
       "    <tr>\n",
       "      <th>50%</th>\n",
       "      <td>1.500000e+07</td>\n",
       "      <td>14435.000000</td>\n",
       "      <td>13.706357</td>\n",
       "      <td>2.204428e+07</td>\n",
       "      <td>103.000000</td>\n",
       "      <td>6.200000</td>\n",
       "      <td>252.000000</td>\n",
       "    </tr>\n",
       "    <tr>\n",
       "      <th>75%</th>\n",
       "      <td>4.000000e+07</td>\n",
       "      <td>57104.000000</td>\n",
       "      <td>29.255485</td>\n",
       "      <td>9.821056e+07</td>\n",
       "      <td>117.000000</td>\n",
       "      <td>6.800000</td>\n",
       "      <td>788.500000</td>\n",
       "    </tr>\n",
       "    <tr>\n",
       "      <th>max</th>\n",
       "      <td>3.800000e+08</td>\n",
       "      <td>447027.000000</td>\n",
       "      <td>875.581305</td>\n",
       "      <td>2.787965e+09</td>\n",
       "      <td>338.000000</td>\n",
       "      <td>10.000000</td>\n",
       "      <td>13752.000000</td>\n",
       "    </tr>\n",
       "  </tbody>\n",
       "</table>\n",
       "</div>"
      ],
      "text/plain": [
       "             budget             id   popularity       revenue      runtime  \\\n",
       "count  4.503000e+03    4503.000000  4503.000000  4.503000e+03  4503.000000   \n",
       "mean   3.040786e+07   55627.086387    22.187274  8.651726e+07   106.495225   \n",
       "std    4.151041e+07   86808.746123    32.516649  1.669837e+08    22.341001   \n",
       "min    0.000000e+00       5.000000     0.000372  0.000000e+00     0.000000   \n",
       "25%    1.000000e+06    9021.500000     5.010111  0.000000e+00    93.000000   \n",
       "50%    1.500000e+07   14435.000000    13.706357  2.204428e+07   103.000000   \n",
       "75%    4.000000e+07   57104.000000    29.255485  9.821056e+07   117.000000   \n",
       "max    3.800000e+08  447027.000000   875.581305  2.787965e+09   338.000000   \n",
       "\n",
       "       vote_average    vote_count  \n",
       "count   4503.000000   4503.000000  \n",
       "mean       6.068377    719.343105  \n",
       "std        1.178534   1263.547850  \n",
       "min        0.000000      0.000000  \n",
       "25%        5.600000     58.500000  \n",
       "50%        6.200000    252.000000  \n",
       "75%        6.800000    788.500000  \n",
       "max       10.000000  13752.000000  "
      ]
     },
     "execution_count": 7,
     "metadata": {},
     "output_type": "execute_result"
    }
   ],
   "source": [
    "df.describe()"
   ]
  },
  {
   "cell_type": "markdown",
   "id": "48b5d54b",
   "metadata": {},
   "source": [
    "# Pre-Processing Steps of \"Overview\" Column"
   ]
  },
  {
   "cell_type": "markdown",
   "id": "46c47a4b",
   "metadata": {},
   "source": [
    "### Get a list of just the \"overview\" column"
   ]
  },
  {
   "cell_type": "code",
   "execution_count": 8,
   "id": "9bc9285b",
   "metadata": {},
   "outputs": [],
   "source": [
    "def to_list(df):\n",
    "    \n",
    "    return list(df['overview'])"
   ]
  },
  {
   "cell_type": "markdown",
   "id": "47c0eba5",
   "metadata": {},
   "source": [
    "### Make all terms lowercase\n",
    "Return a numpy array"
   ]
  },
  {
   "cell_type": "code",
   "execution_count": 9,
   "id": "652ce978",
   "metadata": {},
   "outputs": [],
   "source": [
    "def lower_case(overview):\n",
    "    \n",
    "    return np.char.lower(overview)"
   ]
  },
  {
   "cell_type": "markdown",
   "id": "7d08cffc",
   "metadata": {},
   "source": [
    "### Remove stop words\n",
    "The most commonly occurring words that don’t give any additional value to the document vector. "
   ]
  },
  {
   "cell_type": "code",
   "execution_count": 10,
   "id": "df6bb510",
   "metadata": {},
   "outputs": [],
   "source": [
    "def remove_stopwords(overview):\n",
    "\n",
    "    overview = np.char.split(overview)\n",
    "\n",
    "    cachedStopWords = stopwords.words(\"english\")\n",
    "\n",
    "    for i, value in enumerate(overview.tolist()):\n",
    "        overview[i] = ' '.join([word for word in value if word not in cachedStopWords])  \n",
    "    \n",
    "    \n",
    "    return list(overview)\n"
   ]
  },
  {
   "cell_type": "markdown",
   "id": "926f54b6",
   "metadata": {},
   "source": [
    "### Remove punctuation\n",
    "Except for the character \"'\" as we need that character when removing stopwords such as \"hasn't\""
   ]
  },
  {
   "cell_type": "code",
   "execution_count": 11,
   "id": "76508164",
   "metadata": {},
   "outputs": [],
   "source": [
    "def remove_punctuation(overview):\n",
    "    stripPunct = str.maketrans('', '', ''.join(string.punctuation.split(\"'\")))\n",
    "\n",
    "    # works for 'any.string.inputted'\n",
    "    return np.array([sentence.translate(stripPunct) for sentence in overview])"
   ]
  },
  {
   "cell_type": "markdown",
   "id": "92480f3c",
   "metadata": {},
   "source": [
    "### Remove apostrophe"
   ]
  },
  {
   "cell_type": "code",
   "execution_count": 12,
   "id": "2fd3a533",
   "metadata": {},
   "outputs": [],
   "source": [
    "def remove_apostrophe(overview):\n",
    "    stripPunct = str.maketrans('', '', \"’‘''\")\n",
    "\n",
    "    return np.array([sentence.translate(stripPunct) for sentence in overview])\n"
   ]
  },
  {
   "cell_type": "markdown",
   "id": "94a5ac01",
   "metadata": {},
   "source": [
    "### Remove single characters\n",
    "It is unlikely a single character will give us useful information"
   ]
  },
  {
   "cell_type": "code",
   "execution_count": 13,
   "id": "e2dca283",
   "metadata": {},
   "outputs": [],
   "source": [
    "def remove_chars(overview):\n",
    "    overview = np.char.split(overview)\n",
    "\n",
    "    for i, value in enumerate(overview.tolist()):\n",
    "        overview[i] = ' '.join([word for word in value if len(word) > 1])  \n",
    "    \n",
    "    \n",
    "    return list(overview)"
   ]
  },
  {
   "cell_type": "markdown",
   "id": "d44ae452",
   "metadata": {},
   "source": [
    "### Lemmatization\n",
    "Lemmatization is the process of grouping together the different inflected forms of a word so they can be analyzed as a single item. Lemmatization is similar to stemming but it brings context to the words. So it links words with similar meanings to one word.\n",
    "<br><br>\n",
    "-> rocks : rock <br>\n",
    "-> corpora : corpus <br>\n",
    "-> better : good "
   ]
  },
  {
   "cell_type": "code",
   "execution_count": 14,
   "id": "29fd5889",
   "metadata": {},
   "outputs": [],
   "source": [
    "def lemmatizer(overview):\n",
    "    lemmatizer = WordNetLemmatizer()\n",
    "\n",
    "    for i, value in enumerate(overview.tolist()):\n",
    "        pos_tag(word_tokenize(value))\n",
    "        lemma = []\n",
    "        \n",
    "        for word, tag in pos_tag(word_tokenize(value)):\n",
    "            wntag = tag[0].lower()\n",
    "            wntag = wntag if wntag in ['a', 'r', 'n', 'v'] else None\n",
    "            if not wntag:\n",
    "                lemma.append(word)\n",
    "            else:\n",
    "                lemma.append(lemmatizer.lemmatize(word, wntag))\n",
    "        \n",
    "        overview[i] = ' '.join(lemma)\n",
    "    \n",
    "    return list(overview)"
   ]
  },
  {
   "cell_type": "markdown",
   "id": "5411350c",
   "metadata": {},
   "source": [
    "## Pre-Processing Order of Steps"
   ]
  },
  {
   "cell_type": "code",
   "execution_count": 15,
   "id": "2a292292",
   "metadata": {},
   "outputs": [
    {
     "name": "stdout",
     "output_type": "stream",
     "text": [
      "-------Step 1: To list-------\n",
      "['A cryptic message from Bond’s past sends him on a trail to uncover a sinister organization. While M battles political forces to keep the secret service alive, Bond peels back the layers of deceit to reveal the terrible truth behind SPECTRE.']\n",
      "\n",
      "-------Step 2: Lower case-------\n",
      "['a cryptic message from bond’s past sends him on a trail to uncover a sinister organization. while m battles political forces to keep the secret service alive, bond peels back the layers of deceit to reveal the terrible truth behind spectre.']\n",
      "\n",
      "-------Step 3: Remove punctuation-------\n",
      "['a cryptic message from bond’s past sends him on a trail to uncover a sinister organization while m battles political forces to keep the secret service alive bond peels back the layers of deceit to reveal the terrible truth behind spectre']\n",
      "\n",
      "-------Step 4: Remove single characters-------\n",
      "['cryptic message from bond’s past sends him on trail to uncover sinister organization while battles political forces to keep the secret service alive bond peels back the layers of deceit to reveal the terrible truth behind spectre']\n",
      "\n",
      "-------Step 5: Remove stopwords-------\n",
      "['cryptic message bond’s past sends trail uncover sinister organization battles political forces keep secret service alive bond peels back layers deceit reveal terrible truth behind spectre']\n",
      "\n",
      "-------Step 6: Remove apostrophe-------\n",
      "['cryptic message bonds past sends trail uncover sinister organization battles political forces keep secret service alive bond peels back layers deceit reveal terrible truth behind spectre']\n",
      "\n",
      "-------Step 7: Lemmatizing-------\n",
      "['cryptic message bond past sends trail uncover sinister organization battle political force keep secret service alive bond peel back layer deceit reveal terrible truth behind spectre']\n",
      "\n",
      "-------Step 8: Remove single characters, again-------\n",
      "['cryptic message bond past sends trail uncover sinister organization battle political force keep secret service alive bond peel back layer deceit reveal terrible truth behind spectre']\n",
      "\n"
     ]
    }
   ],
   "source": [
    "# Get a list of just the \"overview\" column\n",
    "overview = to_list(df)\n",
    "print(\"-------Step 1: To list-------\")\n",
    "print(overview[2:3])\n",
    "print('')\n",
    "\n",
    "overview = lower_case(overview)\n",
    "print(\"-------Step 2: Lower case-------\")\n",
    "print(overview[2:3])\n",
    "print('')\n",
    "\n",
    "overview = remove_punctuation(overview)\n",
    "print(\"-------Step 3: Remove punctuation-------\")\n",
    "print(overview[2:3])\n",
    "print('')\n",
    "\n",
    "overview = remove_chars(overview)\n",
    "print(\"-------Step 4: Remove single characters-------\")\n",
    "print(overview[2:3])\n",
    "print('')\n",
    "\n",
    "overview = remove_stopwords(overview)\n",
    "print(\"-------Step 5: Remove stopwords-------\")\n",
    "print(overview[2:3])\n",
    "print('')\n",
    "\n",
    "# remove apostrophe after remove stopwords as \"doesn't\" is a stopword for example\n",
    "overview = remove_apostrophe(overview)\n",
    "print(\"-------Step 6: Remove apostrophe-------\")\n",
    "print(overview[2:3])\n",
    "print('')\n",
    "\n",
    "overview = lemmatizer(overview)\n",
    "print(\"-------Step 7: Lemmatizing-------\")\n",
    "print(overview[2:3])\n",
    "print('')\n",
    "\n",
    "# after lemmtizer some single characters are created\n",
    "overview = remove_chars(overview)\n",
    "print(\"-------Step 8: Remove single characters, again-------\")\n",
    "print(overview[2:3])\n",
    "print('')"
   ]
  },
  {
   "cell_type": "markdown",
   "id": "9016e094",
   "metadata": {},
   "source": [
    "# Get TF-IDF of Overview Column\n",
    "TF = (Number of time the word occurs in the text) / (Total number of words in text) <br>\n",
    "IDF = (Total number of documents / Number of documents with word t in it) <br>\n",
    "TF-IDF = TF * IDF\n",
    "\n",
    "However, sklearn calculates idf as idf(t) = log [ (1 + n) / (1 + df(t)) ] + 1."
   ]
  },
  {
   "cell_type": "markdown",
   "id": "05f27b10",
   "metadata": {},
   "source": [
    "### Convert a collection of text documents to a matrix of token counts."
   ]
  },
  {
   "cell_type": "code",
   "execution_count": 16,
   "id": "eb58a90c",
   "metadata": {},
   "outputs": [],
   "source": [
    "vectorizer = CountVectorizer()\n",
    "X = vectorizer.fit_transform(overview)"
   ]
  },
  {
   "cell_type": "code",
   "execution_count": 17,
   "id": "08a29851",
   "metadata": {},
   "outputs": [
    {
     "data": {
      "text/plain": [
       "array(['angelina', 'angelov', 'angels', 'anger', 'angie', 'anglade',\n",
       "       'angle', 'anglican', 'anglo', 'angloirish', 'anglomaratha',\n",
       "       'angrily', 'angry', 'angst', 'angus', 'animal', 'animalsand',\n",
       "       'animalwarriors', 'animate', 'animated'], dtype=object)"
      ]
     },
     "execution_count": 17,
     "metadata": {},
     "output_type": "execute_result"
    }
   ],
   "source": [
    "vectorizer.get_feature_names_out()[1000:1020]"
   ]
  },
  {
   "cell_type": "code",
   "execution_count": 18,
   "id": "532a785e",
   "metadata": {},
   "outputs": [
    {
     "data": {
      "text/plain": [
       "(4503, 18918)"
      ]
     },
     "execution_count": 18,
     "metadata": {},
     "output_type": "execute_result"
    }
   ],
   "source": [
    "X.toarray().shape"
   ]
  },
  {
   "cell_type": "markdown",
   "id": "fd97517c",
   "metadata": {},
   "source": [
    "### We transform a count matrix to a standardized TF-IDF representation to measure weights"
   ]
  },
  {
   "cell_type": "code",
   "execution_count": 19,
   "id": "7bafb6c4",
   "metadata": {},
   "outputs": [],
   "source": [
    "transformer = TfidfTransformer()\n",
    "transformed_weights = transformer.fit_transform(X)"
   ]
  },
  {
   "cell_type": "markdown",
   "id": "ceb8199e",
   "metadata": {},
   "source": [
    "### Get the top 10 words by greatest TF-IDF"
   ]
  },
  {
   "cell_type": "code",
   "execution_count": 20,
   "id": "2f13af32",
   "metadata": {},
   "outputs": [
    {
     "data": {
      "text/html": [
       "<div>\n",
       "<style scoped>\n",
       "    .dataframe tbody tr th:only-of-type {\n",
       "        vertical-align: middle;\n",
       "    }\n",
       "\n",
       "    .dataframe tbody tr th {\n",
       "        vertical-align: top;\n",
       "    }\n",
       "\n",
       "    .dataframe thead th {\n",
       "        text-align: right;\n",
       "    }\n",
       "</style>\n",
       "<table border=\"1\" class=\"dataframe\">\n",
       "  <thead>\n",
       "    <tr style=\"text-align: right;\">\n",
       "      <th></th>\n",
       "      <th>term</th>\n",
       "      <th>weight</th>\n",
       "    </tr>\n",
       "  </thead>\n",
       "  <tbody>\n",
       "    <tr>\n",
       "      <th>9949</th>\n",
       "      <td>life</td>\n",
       "      <td>0.015623</td>\n",
       "    </tr>\n",
       "    <tr>\n",
       "      <th>6451</th>\n",
       "      <td>find</td>\n",
       "      <td>0.014790</td>\n",
       "    </tr>\n",
       "    <tr>\n",
       "      <th>11737</th>\n",
       "      <td>new</td>\n",
       "      <td>0.013121</td>\n",
       "    </tr>\n",
       "    <tr>\n",
       "      <th>18837</th>\n",
       "      <td>young</td>\n",
       "      <td>0.012580</td>\n",
       "    </tr>\n",
       "    <tr>\n",
       "      <th>12162</th>\n",
       "      <td>one</td>\n",
       "      <td>0.012341</td>\n",
       "    </tr>\n",
       "    <tr>\n",
       "      <th>18699</th>\n",
       "      <td>world</td>\n",
       "      <td>0.011675</td>\n",
       "    </tr>\n",
       "    <tr>\n",
       "      <th>10462</th>\n",
       "      <td>man</td>\n",
       "      <td>0.011403</td>\n",
       "    </tr>\n",
       "    <tr>\n",
       "      <th>7112</th>\n",
       "      <td>get</td>\n",
       "      <td>0.011267</td>\n",
       "    </tr>\n",
       "    <tr>\n",
       "      <th>16606</th>\n",
       "      <td>take</td>\n",
       "      <td>0.011110</td>\n",
       "    </tr>\n",
       "    <tr>\n",
       "      <th>17477</th>\n",
       "      <td>two</td>\n",
       "      <td>0.011003</td>\n",
       "    </tr>\n",
       "  </tbody>\n",
       "</table>\n",
       "</div>"
      ],
      "text/plain": [
       "        term    weight\n",
       "9949    life  0.015623\n",
       "6451    find  0.014790\n",
       "11737    new  0.013121\n",
       "18837  young  0.012580\n",
       "12162    one  0.012341\n",
       "18699  world  0.011675\n",
       "10462    man  0.011403\n",
       "7112     get  0.011267\n",
       "16606   take  0.011110\n",
       "17477    two  0.011003"
      ]
     },
     "execution_count": 20,
     "metadata": {},
     "output_type": "execute_result"
    }
   ],
   "source": [
    "weights = np.asarray(transformed_weights.mean(axis=0)).ravel().tolist()\n",
    "weights_df = pd.DataFrame({'term': vectorizer.get_feature_names_out(), 'weight': weights})\n",
    "# word_weights = np.asarray(transformed_weights.mean(axis=0)).ravel().tolist()\n",
    "weights_df.sort_values(by='weight', ascending=False).head(10)"
   ]
  },
  {
   "cell_type": "markdown",
   "id": "f10083f9",
   "metadata": {},
   "source": [
    "# Determine if the standardized summation of IDF scores of all words in each movie overview correlates with popularity\n",
    "sum(IDF weights of each word per sentence of overview) / count(words in each sentence of overview)"
   ]
  },
  {
   "cell_type": "markdown",
   "id": "54423327",
   "metadata": {},
   "source": [
    "### Create a new dataframe column \"TF-IDF Total\"\n",
    "This column is the standardized sum of each word in the \"Overviews\" column's IDF score"
   ]
  },
  {
   "cell_type": "code",
   "execution_count": 21,
   "id": "9c0e286f",
   "metadata": {},
   "outputs": [],
   "source": [
    "# a list of the idf of each word\n",
    "idf_per_word = transformer.idf_.tolist()"
   ]
  },
  {
   "cell_type": "code",
   "execution_count": 22,
   "id": "70e24059",
   "metadata": {},
   "outputs": [],
   "source": [
    "# dictionary with key as term and value and idf of term\n",
    "idf_dict = dict(value for value in zip(weights_df['term'], idf_per_word))"
   ]
  },
  {
   "cell_type": "code",
   "execution_count": 23,
   "id": "aaa0e5c1",
   "metadata": {},
   "outputs": [],
   "source": [
    "overview = np.char.split(list(overview))\n",
    "tfidf_count = []\n",
    "\n",
    "for i, sentence in enumerate(overview.tolist()):\n",
    "    sum_weights = np.array([idf_dict[word] for word in sentence if word in idf_dict]).sum()\n",
    "    sentence_length = len(sentence)\n",
    "    if sentence_length != 0:\n",
    "        tfidf_count.append(sum_weights / sentence_length)\n",
    "    else:\n",
    "        tfidf_count.append(0)"
   ]
  },
  {
   "cell_type": "markdown",
   "id": "2e927cc7",
   "metadata": {},
   "source": [
    "### Create a new dataframe of all relevant information for the final analysis"
   ]
  },
  {
   "cell_type": "code",
   "execution_count": 24,
   "id": "d35c9068",
   "metadata": {},
   "outputs": [],
   "source": [
    "df = pd.DataFrame({'Popularity':list(df['popularity']),'Overview':overview, 'TF-IDF Total': tfidf_count})"
   ]
  },
  {
   "cell_type": "code",
   "execution_count": 25,
   "id": "358b1892",
   "metadata": {},
   "outputs": [
    {
     "data": {
      "text/html": [
       "<div>\n",
       "<style scoped>\n",
       "    .dataframe tbody tr th:only-of-type {\n",
       "        vertical-align: middle;\n",
       "    }\n",
       "\n",
       "    .dataframe tbody tr th {\n",
       "        vertical-align: top;\n",
       "    }\n",
       "\n",
       "    .dataframe thead th {\n",
       "        text-align: right;\n",
       "    }\n",
       "</style>\n",
       "<table border=\"1\" class=\"dataframe\">\n",
       "  <thead>\n",
       "    <tr style=\"text-align: right;\">\n",
       "      <th></th>\n",
       "      <th>Popularity</th>\n",
       "      <th>Overview</th>\n",
       "      <th>TF-IDF Total</th>\n",
       "    </tr>\n",
       "  </thead>\n",
       "  <tbody>\n",
       "    <tr>\n",
       "      <th>0</th>\n",
       "      <td>150.437577</td>\n",
       "      <td>[22nd, century, paraplegic, marine, dispatch, ...</td>\n",
       "      <td>5.988629</td>\n",
       "    </tr>\n",
       "    <tr>\n",
       "      <th>1</th>\n",
       "      <td>139.082615</td>\n",
       "      <td>[captain, barbossa, long, believe, dead, come,...</td>\n",
       "      <td>5.522213</td>\n",
       "    </tr>\n",
       "    <tr>\n",
       "      <th>2</th>\n",
       "      <td>107.376788</td>\n",
       "      <td>[cryptic, message, bond, past, sends, trail, u...</td>\n",
       "      <td>5.783325</td>\n",
       "    </tr>\n",
       "    <tr>\n",
       "      <th>3</th>\n",
       "      <td>112.312950</td>\n",
       "      <td>[follow, death, district, attorney, harvey, de...</td>\n",
       "      <td>6.091209</td>\n",
       "    </tr>\n",
       "    <tr>\n",
       "      <th>4</th>\n",
       "      <td>43.926995</td>\n",
       "      <td>[john, carter, warweary, former, military, cap...</td>\n",
       "      <td>5.961692</td>\n",
       "    </tr>\n",
       "  </tbody>\n",
       "</table>\n",
       "</div>"
      ],
      "text/plain": [
       "   Popularity                                           Overview  TF-IDF Total\n",
       "0  150.437577  [22nd, century, paraplegic, marine, dispatch, ...      5.988629\n",
       "1  139.082615  [captain, barbossa, long, believe, dead, come,...      5.522213\n",
       "2  107.376788  [cryptic, message, bond, past, sends, trail, u...      5.783325\n",
       "3  112.312950  [follow, death, district, attorney, harvey, de...      6.091209\n",
       "4   43.926995  [john, carter, warweary, former, military, cap...      5.961692"
      ]
     },
     "execution_count": 25,
     "metadata": {},
     "output_type": "execute_result"
    }
   ],
   "source": [
    "df.head()"
   ]
  },
  {
   "cell_type": "markdown",
   "id": "80ed7f70",
   "metadata": {},
   "source": [
    "### Determine if the standardized summation of IDF scores of words in a movie overview correlates with popularity\n",
    "Understand the relationships between two variables at a time via a pairwise plot. We must log transform \"TF-IDF Total\" to solve for non-constant variance"
   ]
  },
  {
   "cell_type": "code",
   "execution_count": 26,
   "id": "523767d9",
   "metadata": {},
   "outputs": [],
   "source": [
    "# remove index where TF-IDF Total is equal to zero. It is an empty overview description\n",
    "df = df[np.logical_not(np.isclose(df['TF-IDF Total'], 0))]\n",
    "\n",
    "# log tranform \"TF-IDF Total\"\n",
    "df['LOG TF-IDF Total'] = np.log10(df['TF-IDF Total'])"
   ]
  },
  {
   "cell_type": "code",
   "execution_count": 62,
   "id": "a61f9a25",
   "metadata": {},
   "outputs": [],
   "source": [
    "#  crate a dataframe of means of numeric columns along intervals of \"TF-IDF Total\"\n",
    "data_points_to_keep = 10\n",
    "max_tf_idf = np.max(df['TF-IDF Total'])\n",
    "min_tf_idf = np.min(df['TF-IDF Total'])\n",
    "list_df_means = []\n",
    "\n",
    "last = min_tf_idf\n",
    "\n",
    "outliers_df = df[(df['TF-IDF Total'] < min_tf_idf + 0.4) | (df['TF-IDF Total'] >= max_tf_idf - 1.1)]\n",
    "\n",
    "for i, value in enumerate(np.arange(min_tf_idf + 0.4, max_tf_idf - 1.1, 0.05)):\n",
    "    holder_df = df[(df['TF-IDF Total'] < value) & (df['TF-IDF Total'] >= last)]\n",
    "    if holder_df.shape[0] > 0:\n",
    "        list_df_means.append(holder_df[[\"Popularity\",\"TF-IDF Total\", \"LOG TF-IDF Total\"]].mean())\n",
    "    last = value"
   ]
  },
  {
   "cell_type": "code",
   "execution_count": 63,
   "id": "405a3144",
   "metadata": {},
   "outputs": [
    {
     "data": {
      "text/html": [
       "<div>\n",
       "<style scoped>\n",
       "    .dataframe tbody tr th:only-of-type {\n",
       "        vertical-align: middle;\n",
       "    }\n",
       "\n",
       "    .dataframe tbody tr th {\n",
       "        vertical-align: top;\n",
       "    }\n",
       "\n",
       "    .dataframe thead th {\n",
       "        text-align: right;\n",
       "    }\n",
       "</style>\n",
       "<table border=\"1\" class=\"dataframe\">\n",
       "  <thead>\n",
       "    <tr style=\"text-align: right;\">\n",
       "      <th></th>\n",
       "      <th>Popularity</th>\n",
       "      <th>TF-IDF Total</th>\n",
       "      <th>LOG TF-IDF Total</th>\n",
       "    </tr>\n",
       "  </thead>\n",
       "  <tbody>\n",
       "    <tr>\n",
       "      <th>0</th>\n",
       "      <td>12.416823</td>\n",
       "      <td>4.461176</td>\n",
       "      <td>0.649336</td>\n",
       "    </tr>\n",
       "    <tr>\n",
       "      <th>1</th>\n",
       "      <td>16.393236</td>\n",
       "      <td>4.610702</td>\n",
       "      <td>0.663765</td>\n",
       "    </tr>\n",
       "    <tr>\n",
       "      <th>2</th>\n",
       "      <td>13.714240</td>\n",
       "      <td>4.656333</td>\n",
       "      <td>0.668041</td>\n",
       "    </tr>\n",
       "    <tr>\n",
       "      <th>3</th>\n",
       "      <td>10.590919</td>\n",
       "      <td>4.708130</td>\n",
       "      <td>0.672847</td>\n",
       "    </tr>\n",
       "    <tr>\n",
       "      <th>4</th>\n",
       "      <td>33.381399</td>\n",
       "      <td>4.751426</td>\n",
       "      <td>0.676822</td>\n",
       "    </tr>\n",
       "    <tr>\n",
       "      <th>...</th>\n",
       "      <td>...</td>\n",
       "      <td>...</td>\n",
       "      <td>...</td>\n",
       "    </tr>\n",
       "    <tr>\n",
       "      <th>74</th>\n",
       "      <td>0.143784</td>\n",
       "      <td>7.639191</td>\n",
       "      <td>0.883047</td>\n",
       "    </tr>\n",
       "    <tr>\n",
       "      <th>75</th>\n",
       "      <td>0.018087</td>\n",
       "      <td>8.257476</td>\n",
       "      <td>0.916847</td>\n",
       "    </tr>\n",
       "    <tr>\n",
       "      <th>76</th>\n",
       "      <td>0.493223</td>\n",
       "      <td>4.528336</td>\n",
       "      <td>0.655939</td>\n",
       "    </tr>\n",
       "    <tr>\n",
       "      <th>77</th>\n",
       "      <td>13.971674</td>\n",
       "      <td>4.563156</td>\n",
       "      <td>0.659265</td>\n",
       "    </tr>\n",
       "    <tr>\n",
       "      <th>78</th>\n",
       "      <td>0.833937</td>\n",
       "      <td>4.527364</td>\n",
       "      <td>0.655845</td>\n",
       "    </tr>\n",
       "  </tbody>\n",
       "</table>\n",
       "<p>79 rows × 3 columns</p>\n",
       "</div>"
      ],
      "text/plain": [
       "    Popularity  TF-IDF Total  LOG TF-IDF Total\n",
       "0    12.416823      4.461176          0.649336\n",
       "1    16.393236      4.610702          0.663765\n",
       "2    13.714240      4.656333          0.668041\n",
       "3    10.590919      4.708130          0.672847\n",
       "4    33.381399      4.751426          0.676822\n",
       "..         ...           ...               ...\n",
       "74    0.143784      7.639191          0.883047\n",
       "75    0.018087      8.257476          0.916847\n",
       "76    0.493223      4.528336          0.655939\n",
       "77   13.971674      4.563156          0.659265\n",
       "78    0.833937      4.527364          0.655845\n",
       "\n",
       "[79 rows x 3 columns]"
      ]
     },
     "execution_count": 63,
     "metadata": {},
     "output_type": "execute_result"
    }
   ],
   "source": [
    "df_smoothed = pd.concat([pd.DataFrame.from_records(list_df_means), \n",
    "                outliers_df[[\"Popularity\",\"TF-IDF Total\", \"LOG TF-IDF Total\"]]])\n",
    "# df_smoothed = pd.DataFrame.from_records(list_df_means)\n",
    "df_smoothed.reset_index(drop=True, inplace=True)\n",
    "df_smoothed"
   ]
  },
  {
   "cell_type": "code",
   "execution_count": 64,
   "id": "bf16caf0",
   "metadata": {},
   "outputs": [
    {
     "data": {
      "image/png": "[encoded data removed]",
      "text/plain": [
       "<Figure size 540x540 with 12 Axes>"
      ]
     },
     "metadata": {
      "needs_background": "light"
     },
     "output_type": "display_data"
    }
   ],
   "source": [
    "# without taking the mean of a rolling window\n",
    "dfs = df[list(df._get_numeric_data().columns)]\n",
    "sns.pairplot(dfs)  # pairwise plots - may take a long time to run\n",
    "plt.show()"
   ]
  },
  {
   "cell_type": "code",
   "execution_count": 65,
   "id": "e258eb4b",
   "metadata": {},
   "outputs": [
    {
     "data": {
      "image/png": "[encoded data removed]",
      "text/plain": [
       "<Figure size 432x288 with 2 Axes>"
      ]
     },
     "metadata": {
      "needs_background": "light"
     },
     "output_type": "display_data"
    }
   ],
   "source": [
    "# pearson correlation matrix without taking the mean of a rolling window\n",
    "correlation_mat = df[list(df._get_numeric_data().columns)].corr()\n",
    "sns.heatmap(correlation_mat, annot = True)\n",
    "plt.show()"
   ]
  },
  {
   "cell_type": "code",
   "execution_count": 66,
   "id": "5943e9d1",
   "metadata": {},
   "outputs": [
    {
     "data": {
      "image/png": "[encoded data removed]",
      "text/plain": [
       "<Figure size 540x540 with 12 Axes>"
      ]
     },
     "metadata": {
      "needs_background": "light"
     },
     "output_type": "display_data"
    }
   ],
   "source": [
    "# with taking the mean of a rolling window\n",
    "dfs = df_smoothed\n",
    "sns.pairplot(dfs)  # pairwise plots - may take a long time to run\n",
    "plt.show()"
   ]
  },
  {
   "cell_type": "code",
   "execution_count": 67,
   "id": "21b52b25",
   "metadata": {},
   "outputs": [
    {
     "data": {
      "image/png": "[encoded data removed]",
      "text/plain": [
       "<Figure size 432x288 with 2 Axes>"
      ]
     },
     "metadata": {
      "needs_background": "light"
     },
     "output_type": "display_data"
    }
   ],
   "source": [
    "# pearson correlation matrix with taking the mean of a rolling window\n",
    "correlation_mat = df_smoothed.corr()\n",
    "sns.heatmap(correlation_mat, annot = True)\n",
    "plt.show()"
   ]
  },
  {
   "cell_type": "markdown",
   "id": "937b9f3c",
   "metadata": {},
   "source": [
    "The Henze-Zirkler Multivariate Normality Test determines whether or not a group of variables follows a multivariate normal distribution. The null and alternative hypotheses for the test are as follows:\n",
    "\n",
    "H0 (null): The variables follow a multivariate normal distribution.\n",
    "\n",
    "Ha (alternative): The variables do not follow a multivariate normal distribution."
   ]
  },
  {
   "cell_type": "code",
   "execution_count": 68,
   "id": "ff4c778d",
   "metadata": {},
   "outputs": [
    {
     "data": {
      "text/plain": [
       "HZResults(hz=7.295261216550768, pval=1.4508018893514275e-30, normal=False)"
      ]
     },
     "execution_count": 68,
     "metadata": {},
     "output_type": "execute_result"
    }
   ],
   "source": [
    "#perform the Henze-Zirkler Multivariate Normality Test\n",
    "multivariate_normality(dfs, alpha=.05)\n",
    "\n",
    "# This tells us that our results are not normal"
   ]
  },
  {
   "cell_type": "markdown",
   "id": "5b798b86",
   "metadata": {},
   "source": [
    "# Key findings:\n",
    "There is no correlation between using rare or commonly used words in a movie description and the movie popularity. However, the most popular movies all use words that are not too rare but not too common on average. "
   ]
  },
  {
   "cell_type": "code",
   "execution_count": 69,
   "id": "77e02eb9",
   "metadata": {},
   "outputs": [],
   "source": [
    "pd.set_option('max_colwidth', 1000)"
   ]
  },
  {
   "cell_type": "markdown",
   "id": "89d00e8e",
   "metadata": {},
   "source": [
    "### TF-IDF combined score low examples"
   ]
  },
  {
   "cell_type": "code",
   "execution_count": 70,
   "id": "43b58884",
   "metadata": {},
   "outputs": [
    {
     "data": {
      "text/html": [
       "<div>\n",
       "<style scoped>\n",
       "    .dataframe tbody tr th:only-of-type {\n",
       "        vertical-align: middle;\n",
       "    }\n",
       "\n",
       "    .dataframe tbody tr th {\n",
       "        vertical-align: top;\n",
       "    }\n",
       "\n",
       "    .dataframe thead th {\n",
       "        text-align: right;\n",
       "    }\n",
       "</style>\n",
       "<table border=\"1\" class=\"dataframe\">\n",
       "  <thead>\n",
       "    <tr style=\"text-align: right;\">\n",
       "      <th></th>\n",
       "      <th>Popularity</th>\n",
       "      <th>Overview</th>\n",
       "      <th>TF-IDF Total</th>\n",
       "      <th>LOG TF-IDF Total</th>\n",
       "    </tr>\n",
       "  </thead>\n",
       "  <tbody>\n",
       "    <tr>\n",
       "      <th>1852</th>\n",
       "      <td>14.562197</td>\n",
       "      <td>[young, girl, send, live, father, new, girlfriend, discovers, creatures, new, home, want, claim, one]</td>\n",
       "      <td>4.178819</td>\n",
       "      <td>0.621054</td>\n",
       "    </tr>\n",
       "    <tr>\n",
       "      <th>3147</th>\n",
       "      <td>0.812776</td>\n",
       "      <td>[young, woman, find, mother, work, spy, british, secret, service, world, war, ii, run, ever, since]</td>\n",
       "      <td>4.359506</td>\n",
       "      <td>0.639437</td>\n",
       "    </tr>\n",
       "    <tr>\n",
       "      <th>3260</th>\n",
       "      <td>25.613197</td>\n",
       "      <td>[mother, daughter, move, new, town, find, live, next, door, house, young, girl, murder, parent, daughter, befriends, survive, son, learns, story, far]</td>\n",
       "      <td>4.369742</td>\n",
       "      <td>0.640456</td>\n",
       "    </tr>\n",
       "    <tr>\n",
       "      <th>1433</th>\n",
       "      <td>2.877488</td>\n",
       "      <td>[time, war, disease, young, officer, gallantly, try, help, young, woman, find, husband]</td>\n",
       "      <td>4.382307</td>\n",
       "      <td>0.641703</td>\n",
       "    </tr>\n",
       "    <tr>\n",
       "      <th>2790</th>\n",
       "      <td>2.303865</td>\n",
       "      <td>[story, woman, love, dog, husband, husband, lose, dog]</td>\n",
       "      <td>4.400813</td>\n",
       "      <td>0.643533</td>\n",
       "    </tr>\n",
       "    <tr>\n",
       "      <th>3020</th>\n",
       "      <td>11.431434</td>\n",
       "      <td>[two, brother, trouble, path, find, middle, one, last, bank, job]</td>\n",
       "      <td>4.430324</td>\n",
       "      <td>0.646435</td>\n",
       "    </tr>\n",
       "    <tr>\n",
       "      <th>3243</th>\n",
       "      <td>5.038953</td>\n",
       "      <td>[two, friend, name, gerry, become, lost, desert, take, wrong, turn, attempt, find, way, home, lead, trouble]</td>\n",
       "      <td>4.470365</td>\n",
       "      <td>0.650343</td>\n",
       "    </tr>\n",
       "    <tr>\n",
       "      <th>3463</th>\n",
       "      <td>10.095184</td>\n",
       "      <td>[life, happy, couple, turn, upside, young, son, die, accident]</td>\n",
       "      <td>4.481160</td>\n",
       "      <td>0.651390</td>\n",
       "    </tr>\n",
       "    <tr>\n",
       "      <th>2669</th>\n",
       "      <td>66.113340</td>\n",
       "      <td>[jack, young, boy, year, old, live, life, one, room, believe, everything, within, real, thing, world, happen, suddenly, tell, thing, outside, room]</td>\n",
       "      <td>4.481764</td>\n",
       "      <td>0.651449</td>\n",
       "    </tr>\n",
       "    <tr>\n",
       "      <th>4454</th>\n",
       "      <td>0.833937</td>\n",
       "      <td>[two, best, friend, film, comedy, get, revenge, bully, high, school, one, joking]</td>\n",
       "      <td>4.527364</td>\n",
       "      <td>0.655845</td>\n",
       "    </tr>\n",
       "  </tbody>\n",
       "</table>\n",
       "</div>"
      ],
      "text/plain": [
       "      Popularity  \\\n",
       "1852   14.562197   \n",
       "3147    0.812776   \n",
       "3260   25.613197   \n",
       "1433    2.877488   \n",
       "2790    2.303865   \n",
       "3020   11.431434   \n",
       "3243    5.038953   \n",
       "3463   10.095184   \n",
       "2669   66.113340   \n",
       "4454    0.833937   \n",
       "\n",
       "                                                                                                                                                    Overview  \\\n",
       "1852                                                   [young, girl, send, live, father, new, girlfriend, discovers, creatures, new, home, want, claim, one]   \n",
       "3147                                                     [young, woman, find, mother, work, spy, british, secret, service, world, war, ii, run, ever, since]   \n",
       "3260  [mother, daughter, move, new, town, find, live, next, door, house, young, girl, murder, parent, daughter, befriends, survive, son, learns, story, far]   \n",
       "1433                                                                 [time, war, disease, young, officer, gallantly, try, help, young, woman, find, husband]   \n",
       "2790                                                                                                  [story, woman, love, dog, husband, husband, lose, dog]   \n",
       "3020                                                                                       [two, brother, trouble, path, find, middle, one, last, bank, job]   \n",
       "3243                                            [two, friend, name, gerry, become, lost, desert, take, wrong, turn, attempt, find, way, home, lead, trouble]   \n",
       "3463                                                                                          [life, happy, couple, turn, upside, young, son, die, accident]   \n",
       "2669     [jack, young, boy, year, old, live, life, one, room, believe, everything, within, real, thing, world, happen, suddenly, tell, thing, outside, room]   \n",
       "4454                                                                       [two, best, friend, film, comedy, get, revenge, bully, high, school, one, joking]   \n",
       "\n",
       "      TF-IDF Total  LOG TF-IDF Total  \n",
       "1852      4.178819          0.621054  \n",
       "3147      4.359506          0.639437  \n",
       "3260      4.369742          0.640456  \n",
       "1433      4.382307          0.641703  \n",
       "2790      4.400813          0.643533  \n",
       "3020      4.430324          0.646435  \n",
       "3243      4.470365          0.650343  \n",
       "3463      4.481160          0.651390  \n",
       "2669      4.481764          0.651449  \n",
       "4454      4.527364          0.655845  "
      ]
     },
     "execution_count": 70,
     "metadata": {},
     "output_type": "execute_result"
    }
   ],
   "source": [
    "df.sort_values(by='TF-IDF Total', ascending=True).head(10)"
   ]
  },
  {
   "cell_type": "markdown",
   "id": "2b04c178",
   "metadata": {},
   "source": [
    "### TF-IDF combined score medium examples"
   ]
  },
  {
   "cell_type": "code",
   "execution_count": 71,
   "id": "a11f4663",
   "metadata": {},
   "outputs": [
    {
     "data": {
      "text/html": [
       "<div>\n",
       "<style scoped>\n",
       "    .dataframe tbody tr th:only-of-type {\n",
       "        vertical-align: middle;\n",
       "    }\n",
       "\n",
       "    .dataframe tbody tr th {\n",
       "        vertical-align: top;\n",
       "    }\n",
       "\n",
       "    .dataframe thead th {\n",
       "        text-align: right;\n",
       "    }\n",
       "</style>\n",
       "<table border=\"1\" class=\"dataframe\">\n",
       "  <thead>\n",
       "    <tr style=\"text-align: right;\">\n",
       "      <th></th>\n",
       "      <th>Popularity</th>\n",
       "      <th>Overview</th>\n",
       "      <th>TF-IDF Total</th>\n",
       "      <th>LOG TF-IDF Total</th>\n",
       "    </tr>\n",
       "  </thead>\n",
       "  <tbody>\n",
       "    <tr>\n",
       "      <th>2766</th>\n",
       "      <td>16.405120</td>\n",
       "      <td>[troubled, hedge, fund, magnate, desperate, complete, sale, trading, empire, make, error, force, turn, unlikely, person, help]</td>\n",
       "      <td>5.917725</td>\n",
       "      <td>0.772155</td>\n",
       "    </tr>\n",
       "    <tr>\n",
       "      <th>3046</th>\n",
       "      <td>11.233081</td>\n",
       "      <td>[college, dropout, get, job, broker, suburban, investment, firm, put, fast, track, success, job, might, legitimate, sound]</td>\n",
       "      <td>5.917650</td>\n",
       "      <td>0.772149</td>\n",
       "    </tr>\n",
       "    <tr>\n",
       "      <th>3711</th>\n",
       "      <td>23.299907</td>\n",
       "      <td>[meet, jesse, celine, nine, year, greece, almost, two, decade, pass, since, first, meeting, train, bound, vienna]</td>\n",
       "      <td>5.917627</td>\n",
       "      <td>0.772148</td>\n",
       "    </tr>\n",
       "    <tr>\n",
       "      <th>257</th>\n",
       "      <td>23.336875</td>\n",
       "      <td>[sandra, bullock, jason, patric, star, young, couple, whose, dream, cruise, turn, terror, lunatic, computer, genius, willem, dafoe, set, new, course, destruction]</td>\n",
       "      <td>5.917364</td>\n",
       "      <td>0.772128</td>\n",
       "    </tr>\n",
       "    <tr>\n",
       "      <th>3883</th>\n",
       "      <td>3.980072</td>\n",
       "      <td>[1972, seemingly, typical, shoestring, budget, pornographic, film, make, florida, hotel, deep, throat, star, linda, lovelace, film, would, surpass, wildest, expectation, everyone, involve, become, one, successful, independent, film, time, catch, public, imagination, meet, spirit, time, even, self, appoint, guardian, public, morality, struggle, suppress, create, brief, moment, possible, future, sexuality, film, bold, artistic, potential, film, cover, story, make, controversial, film, stun, success, hysterical, opposition, along, dark, side, mob, influence, allegation, set, mistreatment, film, star, short, combine, event, would, redefine, popular, appeal, pornography, even, cynical, development, would, lead, path]</td>\n",
       "      <td>5.916719</td>\n",
       "      <td>0.772081</td>\n",
       "    </tr>\n",
       "    <tr>\n",
       "      <th>1566</th>\n",
       "      <td>45.083509</td>\n",
       "      <td>[deny, woman, extension, need, keep, home, loan, officer, christine, brown, see, oncepromising, life, take, startle, turn, worse, christine, convince, cursed, gypsy, boyfriend, skeptical, hope, seem, lie, psychic, claim, help, lift, curse, keep, soul, drag, straight, hell]</td>\n",
       "      <td>5.916542</td>\n",
       "      <td>0.772068</td>\n",
       "    </tr>\n",
       "    <tr>\n",
       "      <th>3264</th>\n",
       "      <td>17.705671</td>\n",
       "      <td>[boyz, hood, popular, successful, film, social, criticism, john, singleton, condition, south, central, los, angeles, teenager, involve, gun, fight, drug, deal, daily, basis]</td>\n",
       "      <td>5.916224</td>\n",
       "      <td>0.772045</td>\n",
       "    </tr>\n",
       "    <tr>\n",
       "      <th>3027</th>\n",
       "      <td>3.193777</td>\n",
       "      <td>[teenager, attend, fantasy, writer, convention, discovers, idea, steal, establish, novelist]</td>\n",
       "      <td>5.915974</td>\n",
       "      <td>0.772026</td>\n",
       "    </tr>\n",
       "    <tr>\n",
       "      <th>1038</th>\n",
       "      <td>10.411996</td>\n",
       "      <td>[office, temp, charlotte, cantilini, think, find, mr, right, start, date, gorgeous, surgeon, dr, kevin, field, there, problem, stand, way, everlasting, bliss, kevins, overbear, control, mother, viola, fear, shell, lose, son, affection, forever, viola, decides, break, happy, couple, become, world, worst, motherinlaw]</td>\n",
       "      <td>5.915730</td>\n",
       "      <td>0.772008</td>\n",
       "    </tr>\n",
       "    <tr>\n",
       "      <th>1316</th>\n",
       "      <td>100.348805</td>\n",
       "      <td>[veteran, pot, dealer, creates, fake, family, part, plan, move, huge, shipment, weed, us, mexico]</td>\n",
       "      <td>5.915611</td>\n",
       "      <td>0.772000</td>\n",
       "    </tr>\n",
       "  </tbody>\n",
       "</table>\n",
       "</div>"
      ],
      "text/plain": [
       "      Popularity  \\\n",
       "2766   16.405120   \n",
       "3046   11.233081   \n",
       "3711   23.299907   \n",
       "257    23.336875   \n",
       "3883    3.980072   \n",
       "1566   45.083509   \n",
       "3264   17.705671   \n",
       "3027    3.193777   \n",
       "1038   10.411996   \n",
       "1316  100.348805   \n",
       "\n",
       "                                                                                                                                                                                                                                                                                                                                                                                                                                                                                                                                                                                                                                                                                                                                               Overview  \\\n",
       "2766                                                                                                                                                                                                                                                                                                                                                                                                                                                                                                                                                                                                                     [troubled, hedge, fund, magnate, desperate, complete, sale, trading, empire, make, error, force, turn, unlikely, person, help]   \n",
       "3046                                                                                                                                                                                                                                                                                                                                                                                                                                                                                                                                                                                                                         [college, dropout, get, job, broker, suburban, investment, firm, put, fast, track, success, job, might, legitimate, sound]   \n",
       "3711                                                                                                                                                                                                                                                                                                                                                                                                                                                                                                                                                                                                                                  [meet, jesse, celine, nine, year, greece, almost, two, decade, pass, since, first, meeting, train, bound, vienna]   \n",
       "257                                                                                                                                                                                                                                                                                                                                                                                                                                                                                                                                                                                  [sandra, bullock, jason, patric, star, young, couple, whose, dream, cruise, turn, terror, lunatic, computer, genius, willem, dafoe, set, new, course, destruction]   \n",
       "3883  [1972, seemingly, typical, shoestring, budget, pornographic, film, make, florida, hotel, deep, throat, star, linda, lovelace, film, would, surpass, wildest, expectation, everyone, involve, become, one, successful, independent, film, time, catch, public, imagination, meet, spirit, time, even, self, appoint, guardian, public, morality, struggle, suppress, create, brief, moment, possible, future, sexuality, film, bold, artistic, potential, film, cover, story, make, controversial, film, stun, success, hysterical, opposition, along, dark, side, mob, influence, allegation, set, mistreatment, film, star, short, combine, event, would, redefine, popular, appeal, pornography, even, cynical, development, would, lead, path]   \n",
       "1566                                                                                                                                                                                                                                                                                                                                                                                                                                                                  [deny, woman, extension, need, keep, home, loan, officer, christine, brown, see, oncepromising, life, take, startle, turn, worse, christine, convince, cursed, gypsy, boyfriend, skeptical, hope, seem, lie, psychic, claim, help, lift, curse, keep, soul, drag, straight, hell]   \n",
       "3264                                                                                                                                                                                                                                                                                                                                                                                                                                                                                                                                                                      [boyz, hood, popular, successful, film, social, criticism, john, singleton, condition, south, central, los, angeles, teenager, involve, gun, fight, drug, deal, daily, basis]   \n",
       "3027                                                                                                                                                                                                                                                                                                                                                                                                                                                                                                                                                                                                                                                       [teenager, attend, fantasy, writer, convention, discovers, idea, steal, establish, novelist]   \n",
       "1038                                                                                                                                                                                                                                                                                                                                                                                                                      [office, temp, charlotte, cantilini, think, find, mr, right, start, date, gorgeous, surgeon, dr, kevin, field, there, problem, stand, way, everlasting, bliss, kevins, overbear, control, mother, viola, fear, shell, lose, son, affection, forever, viola, decides, break, happy, couple, become, world, worst, motherinlaw]   \n",
       "1316                                                                                                                                                                                                                                                                                                                                                                                                                                                                                                                                                                                                                                                  [veteran, pot, dealer, creates, fake, family, part, plan, move, huge, shipment, weed, us, mexico]   \n",
       "\n",
       "      TF-IDF Total  LOG TF-IDF Total  \n",
       "2766      5.917725          0.772155  \n",
       "3046      5.917650          0.772149  \n",
       "3711      5.917627          0.772148  \n",
       "257       5.917364          0.772128  \n",
       "3883      5.916719          0.772081  \n",
       "1566      5.916542          0.772068  \n",
       "3264      5.916224          0.772045  \n",
       "3027      5.915974          0.772026  \n",
       "1038      5.915730          0.772008  \n",
       "1316      5.915611          0.772000  "
      ]
     },
     "execution_count": 71,
     "metadata": {},
     "output_type": "execute_result"
    }
   ],
   "source": [
    "df.sort_values(by='TF-IDF Total', ascending=False)[2250:2260]"
   ]
  },
  {
   "cell_type": "markdown",
   "id": "1cf8ed34",
   "metadata": {},
   "source": [
    "### TF-IDF combined score high examples"
   ]
  },
  {
   "cell_type": "code",
   "execution_count": 72,
   "id": "45395b0d",
   "metadata": {},
   "outputs": [
    {
     "data": {
      "text/html": [
       "<div>\n",
       "<style scoped>\n",
       "    .dataframe tbody tr th:only-of-type {\n",
       "        vertical-align: middle;\n",
       "    }\n",
       "\n",
       "    .dataframe tbody tr th {\n",
       "        vertical-align: top;\n",
       "    }\n",
       "\n",
       "    .dataframe thead th {\n",
       "        text-align: right;\n",
       "    }\n",
       "</style>\n",
       "<table border=\"1\" class=\"dataframe\">\n",
       "  <thead>\n",
       "    <tr style=\"text-align: right;\">\n",
       "      <th></th>\n",
       "      <th>Popularity</th>\n",
       "      <th>Overview</th>\n",
       "      <th>TF-IDF Total</th>\n",
       "      <th>LOG TF-IDF Total</th>\n",
       "    </tr>\n",
       "  </thead>\n",
       "  <tbody>\n",
       "    <tr>\n",
       "      <th>4351</th>\n",
       "      <td>0.018087</td>\n",
       "      <td>[prequel, 5th, degree]</td>\n",
       "      <td>8.257476</td>\n",
       "      <td>0.916847</td>\n",
       "    </tr>\n",
       "    <tr>\n",
       "      <th>3524</th>\n",
       "      <td>0.177356</td>\n",
       "      <td>[la, vida, ha, llevado, julián, pérez, por, caminos, equivocados, pero, el, destino, le, presentará, este, hombre, la, oportunidad, de, encontrar, su, redención, cuando, es, enviado, la, misión, más, peligrosa, noble, de, toda, su, vida, una, misión, ordenada, por, la, única, autoridad, que, todavía, respeta, su, madre, doña, elvira, julián, debe, viajar, hasta, el, otro, extremo, del, mundo, un, lugar, llamado, irak, traer, de, vuelta, vivo, su, hermano, menor, el, soldado, de, infantería, juan, pérez, con, la, promesa, hecha, julián, pérez, regresa, su, natal, sinaloa, donde, reclutará, un, comando, de, elite, destinado, cumplir, una, misión, suicida, viajar, irak, salvar, al, soldado, ...]</td>\n",
       "      <td>8.255839</td>\n",
       "      <td>0.916761</td>\n",
       "    </tr>\n",
       "    <tr>\n",
       "      <th>553</th>\n",
       "      <td>46.875375</td>\n",
       "      <td>[homer, accidentally, pollute, towns, water, supply, springfield, encase, gigantic, dome, epa, simpson, declare, fugitive]</td>\n",
       "      <td>7.691638</td>\n",
       "      <td>0.886019</td>\n",
       "    </tr>\n",
       "    <tr>\n",
       "      <th>4026</th>\n",
       "      <td>0.143784</td>\n",
       "      <td>[oncefamous, painter, rediscovers, inspiration, befriends, sleepwalk, cannibal]</td>\n",
       "      <td>7.639191</td>\n",
       "      <td>0.883047</td>\n",
       "    </tr>\n",
       "    <tr>\n",
       "      <th>207</th>\n",
       "      <td>27.220157</td>\n",
       "      <td>[ad, 922, arab, courtier, ahmad, ibn, fadlan, accompany, party, viking, barbaric, north, combat, terror, slaughter, viking, devours, flesh]</td>\n",
       "      <td>7.522553</td>\n",
       "      <td>0.876365</td>\n",
       "    </tr>\n",
       "    <tr>\n",
       "      <th>150</th>\n",
       "      <td>35.601665</td>\n",
       "      <td>[6thcentury, scandinavian, warrior, beowulf, embark, mission, slay, manlike, ogre, grendel, descendant, cain]</td>\n",
       "      <td>7.486725</td>\n",
       "      <td>0.874292</td>\n",
       "    </tr>\n",
       "    <tr>\n",
       "      <th>3616</th>\n",
       "      <td>17.234745</td>\n",
       "      <td>[tv, network, cynically, exploit, derange, extv, anchor, rave, revelation, medium, profit]</td>\n",
       "      <td>7.389664</td>\n",
       "      <td>0.868625</td>\n",
       "    </tr>\n",
       "    <tr>\n",
       "      <th>3224</th>\n",
       "      <td>2.881239</td>\n",
       "      <td>[street, smart, rapper, christopher, cnote, hawkins, big, boi, applies, membership, allwhite, carolina, pine, country, club, establishments, proprietor, hardly, ready, oblige]</td>\n",
       "      <td>7.342973</td>\n",
       "      <td>0.865872</td>\n",
       "    </tr>\n",
       "    <tr>\n",
       "      <th>1050</th>\n",
       "      <td>87.350802</td>\n",
       "      <td>[behalf, oppress, bug, everywhere, inventive, ant, name, flik, hire, troupe, warrior, bug, defend, bustle, colony, horde, freeload, grasshopper, lead, evilminded, hopper]</td>\n",
       "      <td>7.326305</td>\n",
       "      <td>0.864885</td>\n",
       "    </tr>\n",
       "    <tr>\n",
       "      <th>141</th>\n",
       "      <td>22.550135</td>\n",
       "      <td>[london, highsociety, mouse, roddy, flush, toilet, sid, common, sewer, rat, hang, madcap, adventure, deep, sewer, bowel, ratropolis, roddy, meet, resourceful, rita, rodenthating, toad, faithful, thug, spike, whitey]</td>\n",
       "      <td>7.285168</td>\n",
       "      <td>0.862440</td>\n",
       "    </tr>\n",
       "  </tbody>\n",
       "</table>\n",
       "</div>"
      ],
      "text/plain": [
       "      Popularity  \\\n",
       "4351    0.018087   \n",
       "3524    0.177356   \n",
       "553    46.875375   \n",
       "4026    0.143784   \n",
       "207    27.220157   \n",
       "150    35.601665   \n",
       "3616   17.234745   \n",
       "3224    2.881239   \n",
       "1050   87.350802   \n",
       "141    22.550135   \n",
       "\n",
       "                                                                                                                                                                                                                                                                                                                                                                                                                                                                                                                                                                                                                                                                                                                           Overview  \\\n",
       "4351                                                                                                                                                                                                                                                                                                                                                                                                                                                                                                                                                                                                                                                                                                         [prequel, 5th, degree]   \n",
       "3524  [la, vida, ha, llevado, julián, pérez, por, caminos, equivocados, pero, el, destino, le, presentará, este, hombre, la, oportunidad, de, encontrar, su, redención, cuando, es, enviado, la, misión, más, peligrosa, noble, de, toda, su, vida, una, misión, ordenada, por, la, única, autoridad, que, todavía, respeta, su, madre, doña, elvira, julián, debe, viajar, hasta, el, otro, extremo, del, mundo, un, lugar, llamado, irak, traer, de, vuelta, vivo, su, hermano, menor, el, soldado, de, infantería, juan, pérez, con, la, promesa, hecha, julián, pérez, regresa, su, natal, sinaloa, donde, reclutará, un, comando, de, elite, destinado, cumplir, una, misión, suicida, viajar, irak, salvar, al, soldado, ...]   \n",
       "553                                                                                                                                                                                                                                                                                                                                                                                                                                                                                                                                                                                                      [homer, accidentally, pollute, towns, water, supply, springfield, encase, gigantic, dome, epa, simpson, declare, fugitive]   \n",
       "4026                                                                                                                                                                                                                                                                                                                                                                                                                                                                                                                                                                                                                                                [oncefamous, painter, rediscovers, inspiration, befriends, sleepwalk, cannibal]   \n",
       "207                                                                                                                                                                                                                                                                                                                                                                                                                                                                                                                                                                                     [ad, 922, arab, courtier, ahmad, ibn, fadlan, accompany, party, viking, barbaric, north, combat, terror, slaughter, viking, devours, flesh]   \n",
       "150                                                                                                                                                                                                                                                                                                                                                                                                                                                                                                                                                                                                                   [6thcentury, scandinavian, warrior, beowulf, embark, mission, slay, manlike, ogre, grendel, descendant, cain]   \n",
       "3616                                                                                                                                                                                                                                                                                                                                                                                                                                                                                                                                                                                                                                     [tv, network, cynically, exploit, derange, extv, anchor, rave, revelation, medium, profit]   \n",
       "3224                                                                                                                                                                                                                                                                                                                                                                                                                                                                                                                                                [street, smart, rapper, christopher, cnote, hawkins, big, boi, applies, membership, allwhite, carolina, pine, country, club, establishments, proprietor, hardly, ready, oblige]   \n",
       "1050                                                                                                                                                                                                                                                                                                                                                                                                                                                                                                                                                     [behalf, oppress, bug, everywhere, inventive, ant, name, flik, hire, troupe, warrior, bug, defend, bustle, colony, horde, freeload, grasshopper, lead, evilminded, hopper]   \n",
       "141                                                                                                                                                                                                                                                                                                                                                                                                                                                                                                         [london, highsociety, mouse, roddy, flush, toilet, sid, common, sewer, rat, hang, madcap, adventure, deep, sewer, bowel, ratropolis, roddy, meet, resourceful, rita, rodenthating, toad, faithful, thug, spike, whitey]   \n",
       "\n",
       "      TF-IDF Total  LOG TF-IDF Total  \n",
       "4351      8.257476          0.916847  \n",
       "3524      8.255839          0.916761  \n",
       "553       7.691638          0.886019  \n",
       "4026      7.639191          0.883047  \n",
       "207       7.522553          0.876365  \n",
       "150       7.486725          0.874292  \n",
       "3616      7.389664          0.868625  \n",
       "3224      7.342973          0.865872  \n",
       "1050      7.326305          0.864885  \n",
       "141       7.285168          0.862440  "
      ]
     },
     "execution_count": 72,
     "metadata": {},
     "output_type": "execute_result"
    }
   ],
   "source": [
    "df.sort_values(by='TF-IDF Total', ascending=False).head(10)"
   ]
  },
  {
   "cell_type": "markdown",
   "id": "ab8b7c1e",
   "metadata": {},
   "source": [
    "### Look at IDF score of a single word"
   ]
  },
  {
   "cell_type": "code",
   "execution_count": 73,
   "id": "3921e76a",
   "metadata": {},
   "outputs": [
    {
     "data": {
      "text/plain": [
       "5.651521054125964"
      ]
     },
     "execution_count": 73,
     "metadata": {},
     "output_type": "execute_result"
    }
   ],
   "source": [
    "idf_dict['deep']"
   ]
  },
  {
   "cell_type": "markdown",
   "id": "32b8039e",
   "metadata": {},
   "source": [
    "# Save Dataframe to CSV for statistical analysis in R"
   ]
  },
  {
   "cell_type": "code",
   "execution_count": 74,
   "id": "0ce7d56d",
   "metadata": {},
   "outputs": [],
   "source": [
    "df.to_csv('out.csv', index=False)"
   ]
  },
  {
   "cell_type": "code",
   "execution_count": 75,
   "id": "412335b5",
   "metadata": {},
   "outputs": [],
   "source": [
    "df_smoothed.to_csv('out_windowed_mean.csv', index=False)"
   ]
  },
  {
   "cell_type": "code",
   "execution_count": null,
   "id": "c594d494",
   "metadata": {},
   "outputs": [],
   "source": []
  }
 ],
 "metadata": {
  "kernelspec": {
   "display_name": "Python 3 (ipykernel)",
   "language": "python",
   "name": "python3"
  },
  "language_info": {
   "codemirror_mode": {
    "name": "ipython",
    "version": 3
   },
   "file_extension": ".py",
   "mimetype": "text/x-python",
   "name": "python",
   "nbconvert_exporter": "python",
   "pygments_lexer": "ipython3",
   "version": "3.8.12"
  }
 },
 "nbformat": 4,
 "nbformat_minor": 5
}
